{
 "cells": [
  {
   "cell_type": "code",
   "execution_count": 9,
   "id": "84a592f1-b508-4d48-9046-f765783fc931",
   "metadata": {},
   "outputs": [
    {
     "name": "stderr",
     "output_type": "stream",
     "text": [
      "C:\\Users\\rohit\\AppData\\Local\\Temp\\ipykernel_7512\\1839534538.py:5: DeprecationWarning: Importing display from IPython.core.display is deprecated since IPython 7.14, please import from IPython display\n",
      "  from IPython.core.display import display, HTML\n"
     ]
    }
   ],
   "source": [
    "import pandas as pd\n",
    "import numpy as np\n",
    "import matplotlib.pyplot as plt\n",
    "import seaborn as sns\n",
    "from IPython.core.display import display, HTML\n",
    "import time"
   ]
  },
  {
   "cell_type": "code",
   "execution_count": 279,
   "id": "ac27c142-913d-45c9-b6ef-59bbf48740c0",
   "metadata": {},
   "outputs": [
    {
     "data": {
      "text/html": [
       "<div>\n",
       "<style scoped>\n",
       "    .dataframe tbody tr th:only-of-type {\n",
       "        vertical-align: middle;\n",
       "    }\n",
       "\n",
       "    .dataframe tbody tr th {\n",
       "        vertical-align: top;\n",
       "    }\n",
       "\n",
       "    .dataframe thead th {\n",
       "        text-align: right;\n",
       "    }\n",
       "</style>\n",
       "<table border=\"1\" class=\"dataframe\">\n",
       "  <thead>\n",
       "    <tr style=\"text-align: right;\">\n",
       "      <th></th>\n",
       "      <th>online_order</th>\n",
       "      <th>book_table</th>\n",
       "      <th>rate</th>\n",
       "      <th>votes</th>\n",
       "      <th>rest_type</th>\n",
       "      <th>dish_liked</th>\n",
       "      <th>cuisines</th>\n",
       "      <th>approx_costfor_two_people</th>\n",
       "      <th>listed_intype</th>\n",
       "      <th>listed_incity</th>\n",
       "    </tr>\n",
       "  </thead>\n",
       "  <tbody>\n",
       "    <tr>\n",
       "      <th>0</th>\n",
       "      <td>Yes</td>\n",
       "      <td>Yes</td>\n",
       "      <td>4.1/5</td>\n",
       "      <td>775</td>\n",
       "      <td>Casual Dining</td>\n",
       "      <td>Pasta, Lunch Buffet, Masala Papad, Paneer Laja...</td>\n",
       "      <td>North Indian, Mughlai, Chinese</td>\n",
       "      <td>800</td>\n",
       "      <td>Buffet</td>\n",
       "      <td>Banashankari</td>\n",
       "    </tr>\n",
       "    <tr>\n",
       "      <th>1</th>\n",
       "      <td>Yes</td>\n",
       "      <td>No</td>\n",
       "      <td>4.1/5</td>\n",
       "      <td>787</td>\n",
       "      <td>Casual Dining</td>\n",
       "      <td>Momos, Lunch Buffet, Chocolate Nirvana, Thai G...</td>\n",
       "      <td>Chinese, North Indian, Thai</td>\n",
       "      <td>800</td>\n",
       "      <td>Buffet</td>\n",
       "      <td>Banashankari</td>\n",
       "    </tr>\n",
       "    <tr>\n",
       "      <th>2</th>\n",
       "      <td>Yes</td>\n",
       "      <td>No</td>\n",
       "      <td>3.8/5</td>\n",
       "      <td>918</td>\n",
       "      <td>Cafe, Casual Dining</td>\n",
       "      <td>Churros, Cannelloni, Minestrone Soup, Hot Choc...</td>\n",
       "      <td>Cafe, Mexican, Italian</td>\n",
       "      <td>800</td>\n",
       "      <td>Buffet</td>\n",
       "      <td>Banashankari</td>\n",
       "    </tr>\n",
       "    <tr>\n",
       "      <th>3</th>\n",
       "      <td>No</td>\n",
       "      <td>No</td>\n",
       "      <td>3.7/5</td>\n",
       "      <td>88</td>\n",
       "      <td>Quick Bites</td>\n",
       "      <td>Masala Dosa</td>\n",
       "      <td>South Indian, North Indian</td>\n",
       "      <td>300</td>\n",
       "      <td>Buffet</td>\n",
       "      <td>Banashankari</td>\n",
       "    </tr>\n",
       "    <tr>\n",
       "      <th>4</th>\n",
       "      <td>No</td>\n",
       "      <td>No</td>\n",
       "      <td>3.8/5</td>\n",
       "      <td>166</td>\n",
       "      <td>Casual Dining</td>\n",
       "      <td>Panipuri, Gol Gappe</td>\n",
       "      <td>North Indian, Rajasthani</td>\n",
       "      <td>600</td>\n",
       "      <td>Buffet</td>\n",
       "      <td>Banashankari</td>\n",
       "    </tr>\n",
       "    <tr>\n",
       "      <th>...</th>\n",
       "      <td>...</td>\n",
       "      <td>...</td>\n",
       "      <td>...</td>\n",
       "      <td>...</td>\n",
       "      <td>...</td>\n",
       "      <td>...</td>\n",
       "      <td>...</td>\n",
       "      <td>...</td>\n",
       "      <td>...</td>\n",
       "      <td>...</td>\n",
       "    </tr>\n",
       "    <tr>\n",
       "      <th>51712</th>\n",
       "      <td>No</td>\n",
       "      <td>No</td>\n",
       "      <td>3.6 /5</td>\n",
       "      <td>27</td>\n",
       "      <td>Bar</td>\n",
       "      <td>NaN</td>\n",
       "      <td>Continental</td>\n",
       "      <td>1,500</td>\n",
       "      <td>Pubs and bars</td>\n",
       "      <td>Whitefield</td>\n",
       "    </tr>\n",
       "    <tr>\n",
       "      <th>51713</th>\n",
       "      <td>No</td>\n",
       "      <td>No</td>\n",
       "      <td>NaN</td>\n",
       "      <td>0</td>\n",
       "      <td>Bar</td>\n",
       "      <td>NaN</td>\n",
       "      <td>Finger Food</td>\n",
       "      <td>600</td>\n",
       "      <td>Pubs and bars</td>\n",
       "      <td>Whitefield</td>\n",
       "    </tr>\n",
       "    <tr>\n",
       "      <th>51714</th>\n",
       "      <td>No</td>\n",
       "      <td>No</td>\n",
       "      <td>NaN</td>\n",
       "      <td>0</td>\n",
       "      <td>Bar</td>\n",
       "      <td>NaN</td>\n",
       "      <td>Finger Food</td>\n",
       "      <td>2,000</td>\n",
       "      <td>Pubs and bars</td>\n",
       "      <td>Whitefield</td>\n",
       "    </tr>\n",
       "    <tr>\n",
       "      <th>51715</th>\n",
       "      <td>No</td>\n",
       "      <td>Yes</td>\n",
       "      <td>4.3 /5</td>\n",
       "      <td>236</td>\n",
       "      <td>Bar</td>\n",
       "      <td>Cocktails, Pizza, Buttermilk</td>\n",
       "      <td>Finger Food</td>\n",
       "      <td>2,500</td>\n",
       "      <td>Pubs and bars</td>\n",
       "      <td>Whitefield</td>\n",
       "    </tr>\n",
       "    <tr>\n",
       "      <th>51716</th>\n",
       "      <td>No</td>\n",
       "      <td>No</td>\n",
       "      <td>3.4 /5</td>\n",
       "      <td>13</td>\n",
       "      <td>Bar, Casual Dining</td>\n",
       "      <td>NaN</td>\n",
       "      <td>Finger Food, North Indian, Continental</td>\n",
       "      <td>1,500</td>\n",
       "      <td>Pubs and bars</td>\n",
       "      <td>Whitefield</td>\n",
       "    </tr>\n",
       "  </tbody>\n",
       "</table>\n",
       "<p>51717 rows × 10 columns</p>\n",
       "</div>"
      ],
      "text/plain": [
       "      online_order book_table    rate  votes            rest_type  \\\n",
       "0              Yes        Yes   4.1/5    775        Casual Dining   \n",
       "1              Yes         No   4.1/5    787        Casual Dining   \n",
       "2              Yes         No   3.8/5    918  Cafe, Casual Dining   \n",
       "3               No         No   3.7/5     88          Quick Bites   \n",
       "4               No         No   3.8/5    166        Casual Dining   \n",
       "...            ...        ...     ...    ...                  ...   \n",
       "51712           No         No  3.6 /5     27                  Bar   \n",
       "51713           No         No     NaN      0                  Bar   \n",
       "51714           No         No     NaN      0                  Bar   \n",
       "51715           No        Yes  4.3 /5    236                  Bar   \n",
       "51716           No         No  3.4 /5     13   Bar, Casual Dining   \n",
       "\n",
       "                                              dish_liked  \\\n",
       "0      Pasta, Lunch Buffet, Masala Papad, Paneer Laja...   \n",
       "1      Momos, Lunch Buffet, Chocolate Nirvana, Thai G...   \n",
       "2      Churros, Cannelloni, Minestrone Soup, Hot Choc...   \n",
       "3                                            Masala Dosa   \n",
       "4                                    Panipuri, Gol Gappe   \n",
       "...                                                  ...   \n",
       "51712                                                NaN   \n",
       "51713                                                NaN   \n",
       "51714                                                NaN   \n",
       "51715                       Cocktails, Pizza, Buttermilk   \n",
       "51716                                                NaN   \n",
       "\n",
       "                                     cuisines approx_costfor_two_people  \\\n",
       "0              North Indian, Mughlai, Chinese                       800   \n",
       "1                 Chinese, North Indian, Thai                       800   \n",
       "2                      Cafe, Mexican, Italian                       800   \n",
       "3                  South Indian, North Indian                       300   \n",
       "4                    North Indian, Rajasthani                       600   \n",
       "...                                       ...                       ...   \n",
       "51712                             Continental                     1,500   \n",
       "51713                             Finger Food                       600   \n",
       "51714                             Finger Food                     2,000   \n",
       "51715                             Finger Food                     2,500   \n",
       "51716  Finger Food, North Indian, Continental                     1,500   \n",
       "\n",
       "       listed_intype listed_incity  \n",
       "0             Buffet  Banashankari  \n",
       "1             Buffet  Banashankari  \n",
       "2             Buffet  Banashankari  \n",
       "3             Buffet  Banashankari  \n",
       "4             Buffet  Banashankari  \n",
       "...              ...           ...  \n",
       "51712  Pubs and bars    Whitefield  \n",
       "51713  Pubs and bars    Whitefield  \n",
       "51714  Pubs and bars    Whitefield  \n",
       "51715  Pubs and bars    Whitefield  \n",
       "51716  Pubs and bars    Whitefield  \n",
       "\n",
       "[51717 rows x 10 columns]"
      ]
     },
     "execution_count": 279,
     "metadata": {},
     "output_type": "execute_result"
    }
   ],
   "source": [
    "df = pd.read_csv('zomato_data.csv')\n",
    "df"
   ]
  },
  {
   "cell_type": "code",
   "execution_count": 281,
   "id": "16ae92ce-04c8-4364-ac20-e2113f929e18",
   "metadata": {},
   "outputs": [
    {
     "data": {
      "text/html": [
       "<div>\n",
       "<style scoped>\n",
       "    .dataframe tbody tr th:only-of-type {\n",
       "        vertical-align: middle;\n",
       "    }\n",
       "\n",
       "    .dataframe tbody tr th {\n",
       "        vertical-align: top;\n",
       "    }\n",
       "\n",
       "    .dataframe thead th {\n",
       "        text-align: right;\n",
       "    }\n",
       "</style>\n",
       "<table border=\"1\" class=\"dataframe\">\n",
       "  <thead>\n",
       "    <tr style=\"text-align: right;\">\n",
       "      <th></th>\n",
       "      <th>online_order</th>\n",
       "      <th>book_table</th>\n",
       "      <th>rate</th>\n",
       "      <th>votes</th>\n",
       "      <th>rest_type</th>\n",
       "      <th>dish_liked</th>\n",
       "      <th>cuisines</th>\n",
       "      <th>approx_costfor_two_people</th>\n",
       "      <th>listed_intype</th>\n",
       "      <th>listed_incity</th>\n",
       "    </tr>\n",
       "  </thead>\n",
       "  <tbody>\n",
       "    <tr>\n",
       "      <th>0</th>\n",
       "      <td>Yes</td>\n",
       "      <td>Yes</td>\n",
       "      <td>4.1/5</td>\n",
       "      <td>775</td>\n",
       "      <td>Casual Dining</td>\n",
       "      <td>Pasta, Lunch Buffet, Masala Papad, Paneer Laja...</td>\n",
       "      <td>North Indian, Mughlai, Chinese</td>\n",
       "      <td>800</td>\n",
       "      <td>Buffet</td>\n",
       "      <td>Banashankari</td>\n",
       "    </tr>\n",
       "    <tr>\n",
       "      <th>1</th>\n",
       "      <td>Yes</td>\n",
       "      <td>No</td>\n",
       "      <td>4.1/5</td>\n",
       "      <td>787</td>\n",
       "      <td>Casual Dining</td>\n",
       "      <td>Momos, Lunch Buffet, Chocolate Nirvana, Thai G...</td>\n",
       "      <td>Chinese, North Indian, Thai</td>\n",
       "      <td>800</td>\n",
       "      <td>Buffet</td>\n",
       "      <td>Banashankari</td>\n",
       "    </tr>\n",
       "    <tr>\n",
       "      <th>2</th>\n",
       "      <td>Yes</td>\n",
       "      <td>No</td>\n",
       "      <td>3.8/5</td>\n",
       "      <td>918</td>\n",
       "      <td>Cafe, Casual Dining</td>\n",
       "      <td>Churros, Cannelloni, Minestrone Soup, Hot Choc...</td>\n",
       "      <td>Cafe, Mexican, Italian</td>\n",
       "      <td>800</td>\n",
       "      <td>Buffet</td>\n",
       "      <td>Banashankari</td>\n",
       "    </tr>\n",
       "    <tr>\n",
       "      <th>3</th>\n",
       "      <td>No</td>\n",
       "      <td>No</td>\n",
       "      <td>3.7/5</td>\n",
       "      <td>88</td>\n",
       "      <td>Quick Bites</td>\n",
       "      <td>Masala Dosa</td>\n",
       "      <td>South Indian, North Indian</td>\n",
       "      <td>300</td>\n",
       "      <td>Buffet</td>\n",
       "      <td>Banashankari</td>\n",
       "    </tr>\n",
       "    <tr>\n",
       "      <th>4</th>\n",
       "      <td>No</td>\n",
       "      <td>No</td>\n",
       "      <td>3.8/5</td>\n",
       "      <td>166</td>\n",
       "      <td>Casual Dining</td>\n",
       "      <td>Panipuri, Gol Gappe</td>\n",
       "      <td>North Indian, Rajasthani</td>\n",
       "      <td>600</td>\n",
       "      <td>Buffet</td>\n",
       "      <td>Banashankari</td>\n",
       "    </tr>\n",
       "  </tbody>\n",
       "</table>\n",
       "</div>"
      ],
      "text/plain": [
       "  online_order book_table   rate  votes            rest_type  \\\n",
       "0          Yes        Yes  4.1/5    775        Casual Dining   \n",
       "1          Yes         No  4.1/5    787        Casual Dining   \n",
       "2          Yes         No  3.8/5    918  Cafe, Casual Dining   \n",
       "3           No         No  3.7/5     88          Quick Bites   \n",
       "4           No         No  3.8/5    166        Casual Dining   \n",
       "\n",
       "                                          dish_liked  \\\n",
       "0  Pasta, Lunch Buffet, Masala Papad, Paneer Laja...   \n",
       "1  Momos, Lunch Buffet, Chocolate Nirvana, Thai G...   \n",
       "2  Churros, Cannelloni, Minestrone Soup, Hot Choc...   \n",
       "3                                        Masala Dosa   \n",
       "4                                Panipuri, Gol Gappe   \n",
       "\n",
       "                         cuisines approx_costfor_two_people listed_intype  \\\n",
       "0  North Indian, Mughlai, Chinese                       800        Buffet   \n",
       "1     Chinese, North Indian, Thai                       800        Buffet   \n",
       "2          Cafe, Mexican, Italian                       800        Buffet   \n",
       "3      South Indian, North Indian                       300        Buffet   \n",
       "4        North Indian, Rajasthani                       600        Buffet   \n",
       "\n",
       "  listed_incity  \n",
       "0  Banashankari  \n",
       "1  Banashankari  \n",
       "2  Banashankari  \n",
       "3  Banashankari  \n",
       "4  Banashankari  "
      ]
     },
     "execution_count": 281,
     "metadata": {},
     "output_type": "execute_result"
    }
   ],
   "source": [
    "data_zomato = df.copy()\n",
    "data_zomato.head()"
   ]
  },
  {
   "cell_type": "code",
   "execution_count": 283,
   "id": "44ab7be0-f26f-4277-99fb-a94b8cc445f2",
   "metadata": {},
   "outputs": [
    {
     "data": {
      "text/plain": [
       "0"
      ]
     },
     "execution_count": 283,
     "metadata": {},
     "output_type": "execute_result"
    }
   ],
   "source": [
    "data_zomato.online_order.isnull().sum()"
   ]
  },
  {
   "cell_type": "code",
   "execution_count": 285,
   "id": "1fe97841-63b9-44ee-892e-9acd7b1c2130",
   "metadata": {},
   "outputs": [
    {
     "data": {
      "text/plain": [
       "array(['Yes', 'No'], dtype=object)"
      ]
     },
     "execution_count": 285,
     "metadata": {},
     "output_type": "execute_result"
    }
   ],
   "source": [
    "data_zomato.online_order.unique()"
   ]
  },
  {
   "cell_type": "code",
   "execution_count": 287,
   "id": "351928df-a089-47ba-b1a7-e4a50589a2ac",
   "metadata": {},
   "outputs": [
    {
     "data": {
      "text/plain": [
       "0"
      ]
     },
     "execution_count": 287,
     "metadata": {},
     "output_type": "execute_result"
    }
   ],
   "source": [
    "data_zomato.book_table.isnull().sum()"
   ]
  },
  {
   "cell_type": "code",
   "execution_count": 289,
   "id": "73b8cccd-0083-4efc-b437-a9eb748cc1c7",
   "metadata": {},
   "outputs": [
    {
     "data": {
      "text/plain": [
       "array(['Yes', 'No'], dtype=object)"
      ]
     },
     "execution_count": 289,
     "metadata": {},
     "output_type": "execute_result"
    }
   ],
   "source": [
    "data_zomato.book_table.unique()"
   ]
  },
  {
   "cell_type": "code",
   "execution_count": null,
   "id": "54057625-1366-42d7-851d-73520501de05",
   "metadata": {},
   "outputs": [],
   "source": []
  },
  {
   "cell_type": "code",
   "execution_count": 291,
   "id": "13bb013e-0831-4cfe-84a7-b3694f12b938",
   "metadata": {},
   "outputs": [
    {
     "data": {
      "text/plain": [
       "array(['4.1/5', '3.8/5', '3.7/5', '3.6/5', '4.6/5', '4.0/5', '4.2/5',\n",
       "       '3.9/5', '3.1/5', '3.0/5', '3.2/5', '3.3/5', '2.8/5', '4.4/5',\n",
       "       '4.3/5', 'NEW', '2.9/5', '3.5/5', nan, '2.6/5', '3.8 /5', '3.4/5',\n",
       "       '4.5/5', '2.5/5', '2.7/5', '4.7/5', '2.4/5', '2.2/5', '2.3/5',\n",
       "       '3.4 /5', '-', '3.6 /5', '4.8/5', '3.9 /5', '4.2 /5', '4.0 /5',\n",
       "       '4.1 /5', '3.7 /5', '3.1 /5', '2.9 /5', '3.3 /5', '2.8 /5',\n",
       "       '3.5 /5', '2.7 /5', '2.5 /5', '3.2 /5', '2.6 /5', '4.5 /5',\n",
       "       '4.3 /5', '4.4 /5', '4.9/5', '2.1/5', '2.0/5', '1.8/5', '4.6 /5',\n",
       "       '4.9 /5', '3.0 /5', '4.8 /5', '2.3 /5', '4.7 /5', '2.4 /5',\n",
       "       '2.1 /5', '2.2 /5', '2.0 /5', '1.8 /5'], dtype=object)"
      ]
     },
     "execution_count": 291,
     "metadata": {},
     "output_type": "execute_result"
    }
   ],
   "source": [
    "data_zomato.rate.unique()"
   ]
  },
  {
   "cell_type": "code",
   "execution_count": 293,
   "id": "d5b13712-f9c8-4ab0-b1ab-a9241002d160",
   "metadata": {},
   "outputs": [
    {
     "data": {
      "text/plain": [
       "10052"
      ]
     },
     "execution_count": 293,
     "metadata": {},
     "output_type": "execute_result"
    }
   ],
   "source": [
    "data_zomato[data_zomato['rate'].isin(['NEW', '-', np.nan])].shape[0]"
   ]
  },
  {
   "cell_type": "code",
   "execution_count": 295,
   "id": "bfbed4a4-dd4d-4aa8-bb81-c84e237a5203",
   "metadata": {},
   "outputs": [
    {
     "data": {
      "text/plain": [
       "rate    object\n",
       "dtype: object"
      ]
     },
     "execution_count": 295,
     "metadata": {},
     "output_type": "execute_result"
    }
   ],
   "source": [
    "data_zomato[['rate']].dtypes"
   ]
  },
  {
   "cell_type": "markdown",
   "id": "6f0ba024-3041-4ddc-87be-5ab01750ec23",
   "metadata": {},
   "source": [
    "**Step 1: Rating Column (rate)**"
   ]
  },
  {
   "cell_type": "code",
   "execution_count": 297,
   "id": "de2faaad-0a1a-48ea-9619-dab5d63ffa27",
   "metadata": {},
   "outputs": [
    {
     "name": "stderr",
     "output_type": "stream",
     "text": [
      "C:\\Users\\rohit\\AppData\\Local\\Temp\\ipykernel_7512\\449209393.py:1: FutureWarning: A value is trying to be set on a copy of a DataFrame or Series through chained assignment using an inplace method.\n",
      "The behavior will change in pandas 3.0. This inplace method will never work because the intermediate object on which we are setting values always behaves as a copy.\n",
      "\n",
      "For example, when doing 'df[col].method(value, inplace=True)', try using 'df.method({col: value}, inplace=True)' or df[col] = df[col].method(value) instead, to perform the operation inplace on the original object.\n",
      "\n",
      "\n",
      "  data_zomato['rate'].replace('-', np.nan, inplace=True)\n"
     ]
    }
   ],
   "source": [
    "data_zomato['rate'].replace('-', np.nan, inplace=True)"
   ]
  },
  {
   "cell_type": "code",
   "execution_count": 299,
   "id": "58c4ac8d-a157-4938-aa27-9821abe1bac4",
   "metadata": {},
   "outputs": [],
   "source": [
    "# Removing '/5' and extract the numeric part\n",
    "data_zomato['rate'] = data_zomato['rate'].astype(str).str.extract(r'(\\d+\\.\\d+)', expand=False)"
   ]
  },
  {
   "cell_type": "code",
   "execution_count": 301,
   "id": "df028f31-2df1-4314-8272-8ae0eea9b564",
   "metadata": {},
   "outputs": [],
   "source": [
    "# Converting rate to float using pd.to_numeric()\n",
    "data_zomato['rate'] = pd.to_numeric(data_zomato['rate'], errors='coerce')"
   ]
  },
  {
   "cell_type": "code",
   "execution_count": 303,
   "id": "4e7a5612-4eb3-4cb3-beb1-9bba20d528c0",
   "metadata": {},
   "outputs": [
    {
     "name": "stdout",
     "output_type": "stream",
     "text": [
      "Missing values before filling: 10052\n"
     ]
    }
   ],
   "source": [
    "print(f\"Missing values before filling: {data_zomato['rate'].isnull().sum()}\")"
   ]
  },
  {
   "cell_type": "code",
   "execution_count": 305,
   "id": "1c18a892-99b7-4970-bc30-e10f5faab0eb",
   "metadata": {},
   "outputs": [
    {
     "name": "stderr",
     "output_type": "stream",
     "text": [
      "C:\\Users\\rohit\\AppData\\Local\\Temp\\ipykernel_7512\\4139250994.py:3: FutureWarning: A value is trying to be set on a copy of a DataFrame or Series through chained assignment using an inplace method.\n",
      "The behavior will change in pandas 3.0. This inplace method will never work because the intermediate object on which we are setting values always behaves as a copy.\n",
      "\n",
      "For example, when doing 'df[col].method(value, inplace=True)', try using 'df.method({col: value}, inplace=True)' or df[col] = df[col].method(value) instead, to perform the operation inplace on the original object.\n",
      "\n",
      "\n",
      "  data_zomato['rate'].fillna(median_rating, inplace=True)\n"
     ]
    }
   ],
   "source": [
    "# Filliing missing values using the median rating\n",
    "median_rating = data_zomato['rate'].median()\n",
    "data_zomato['rate'].fillna(median_rating, inplace=True)"
   ]
  },
  {
   "cell_type": "code",
   "execution_count": 307,
   "id": "8ef33d3c-0abe-4cd8-8551-755be6270bbe",
   "metadata": {},
   "outputs": [
    {
     "data": {
      "text/plain": [
       "0"
      ]
     },
     "execution_count": 307,
     "metadata": {},
     "output_type": "execute_result"
    }
   ],
   "source": [
    "data_zomato['rate'].isnull().sum()"
   ]
  },
  {
   "cell_type": "code",
   "execution_count": null,
   "id": "0955cfdb-e8ef-4837-a2c8-395282627869",
   "metadata": {},
   "outputs": [],
   "source": []
  },
  {
   "cell_type": "markdown",
   "id": "3887bef4-3081-4474-b87a-8a6bb54950f3",
   "metadata": {},
   "source": [
    "**Step 2: Cost Column (approx_costfor_two_people)**"
   ]
  },
  {
   "cell_type": "code",
   "execution_count": 309,
   "id": "79ecc267-ac23-4fa9-93c0-ceb2d1b3ddc9",
   "metadata": {},
   "outputs": [],
   "source": [
    "# Removing commas from numeric strings ('1,000' → '1000')\n",
    "data_zomato['approx_costfor_two_people'] = data_zomato['approx_costfor_two_people'].astype(str).str.replace(',', '', regex=True)"
   ]
  },
  {
   "cell_type": "code",
   "execution_count": 311,
   "id": "a0d79717-66c2-42e5-9031-844c202196d6",
   "metadata": {},
   "outputs": [],
   "source": [
    "# Converting to numeric\n",
    "data_zomato['approx_costfor_two_people'] = pd.to_numeric(data_zomato['approx_costfor_two_people'], errors='coerce')"
   ]
  },
  {
   "cell_type": "code",
   "execution_count": 313,
   "id": "44a05a83-1aeb-4730-a6ae-379408bca930",
   "metadata": {},
   "outputs": [
    {
     "data": {
      "text/plain": [
       "dtype('float64')"
      ]
     },
     "execution_count": 313,
     "metadata": {},
     "output_type": "execute_result"
    }
   ],
   "source": [
    "data_zomato['approx_costfor_two_people'].dtype"
   ]
  },
  {
   "cell_type": "code",
   "execution_count": 315,
   "id": "cf5205ba-634f-49ac-866f-d0b982d6a27c",
   "metadata": {},
   "outputs": [
    {
     "name": "stderr",
     "output_type": "stream",
     "text": [
      "C:\\Users\\rohit\\AppData\\Local\\Temp\\ipykernel_7512\\3922111410.py:3: FutureWarning: A value is trying to be set on a copy of a DataFrame or Series through chained assignment using an inplace method.\n",
      "The behavior will change in pandas 3.0. This inplace method will never work because the intermediate object on which we are setting values always behaves as a copy.\n",
      "\n",
      "For example, when doing 'df[col].method(value, inplace=True)', try using 'df.method({col: value}, inplace=True)' or df[col] = df[col].method(value) instead, to perform the operation inplace on the original object.\n",
      "\n",
      "\n",
      "  data_zomato['approx_costfor_two_people'].fillna(median_cost, inplace = True)\n"
     ]
    }
   ],
   "source": [
    "# Filling missing values using the median cost\n",
    "median_cost = data_zomato['approx_costfor_two_people'].median()\n",
    "data_zomato['approx_costfor_two_people'].fillna(median_cost, inplace = True)"
   ]
  },
  {
   "cell_type": "code",
   "execution_count": 317,
   "id": "21b6b319-8b1b-40b6-980d-b1e0242a0910",
   "metadata": {},
   "outputs": [
    {
     "data": {
      "text/plain": [
       "0"
      ]
     },
     "execution_count": 317,
     "metadata": {},
     "output_type": "execute_result"
    }
   ],
   "source": [
    "data_zomato['approx_costfor_two_people'].isnull().sum()"
   ]
  },
  {
   "cell_type": "code",
   "execution_count": null,
   "id": "34566ac3-94f7-4bc5-91eb-706901d67d1d",
   "metadata": {},
   "outputs": [],
   "source": []
  },
  {
   "cell_type": "markdown",
   "id": "3b63920a-0a3f-4df3-9360-5660b9d4e287",
   "metadata": {},
   "source": [
    "**Step 3: Categorical Columns**"
   ]
  },
  {
   "cell_type": "code",
   "execution_count": 319,
   "id": "17f19b8b-4202-4ff4-b185-2a520c72a059",
   "metadata": {},
   "outputs": [],
   "source": [
    "# dish_liked → Replace NaN with \"Not Available\"\n",
    "data_zomato['dish_liked'] = data_zomato['dish_liked'].fillna(\"Not Available\")"
   ]
  },
  {
   "cell_type": "code",
   "execution_count": 321,
   "id": "e3e7511e-9b26-4a24-a241-ac3b89189c46",
   "metadata": {},
   "outputs": [
    {
     "data": {
      "text/plain": [
       "0"
      ]
     },
     "execution_count": 321,
     "metadata": {},
     "output_type": "execute_result"
    }
   ],
   "source": [
    "data_zomato['dish_liked'].isnull().sum()"
   ]
  },
  {
   "cell_type": "code",
   "execution_count": 323,
   "id": "103d8bdd-bbe8-4141-9270-0a465a0e982d",
   "metadata": {},
   "outputs": [],
   "source": [
    "# cuisines → Replace NaN with \"Other\"\n",
    "data_zomato['cuisines'] = data_zomato['cuisines'].fillna(\"Not Available\")"
   ]
  },
  {
   "cell_type": "code",
   "execution_count": 325,
   "id": "4c67fdfb-e6b1-49f8-8531-d7c69ea98d12",
   "metadata": {},
   "outputs": [
    {
     "data": {
      "text/plain": [
       "0"
      ]
     },
     "execution_count": 325,
     "metadata": {},
     "output_type": "execute_result"
    }
   ],
   "source": [
    "data_zomato['cuisines'].isnull().sum()"
   ]
  },
  {
   "cell_type": "code",
   "execution_count": 327,
   "id": "deedbee6-26f1-443f-a045-941410788c65",
   "metadata": {},
   "outputs": [],
   "source": [
    "# rest_type → Replace NaN with \"Unknown\"\n",
    "data_zomato['rest_type'] = data_zomato['rest_type'].fillna(\"Unknown\")"
   ]
  },
  {
   "cell_type": "code",
   "execution_count": 329,
   "id": "809e4b13-50cb-45e5-b3b3-6b0f476bfc41",
   "metadata": {},
   "outputs": [
    {
     "data": {
      "text/plain": [
       "0"
      ]
     },
     "execution_count": 329,
     "metadata": {},
     "output_type": "execute_result"
    }
   ],
   "source": [
    "data_zomato['rest_type'].isnull().sum()"
   ]
  },
  {
   "cell_type": "code",
   "execution_count": null,
   "id": "f3dc9968-2d93-45d7-85f5-a6b677abdcba",
   "metadata": {},
   "outputs": [],
   "source": []
  },
  {
   "cell_type": "markdown",
   "id": "e9769d0a-55c5-46f0-b858-51bc506bb287",
   "metadata": {},
   "source": [
    "**Step 4: Votes Column**"
   ]
  },
  {
   "cell_type": "code",
   "execution_count": 247,
   "id": "bc5ae227-0d4a-44e8-903b-aea82c415bdb",
   "metadata": {},
   "outputs": [],
   "source": [
    "# # Fill missing values in votes with median\n",
    "# median_votes = data_zomato['votes'].median()\n",
    "# data_zomato['votes'] = data_zomato['votes'].replace(0, median_votes)"
   ]
  },
  {
   "cell_type": "code",
   "execution_count": null,
   "id": "00e58b1e-cae6-4f9b-93a0-1c7d49c8d780",
   "metadata": {},
   "outputs": [],
   "source": []
  },
  {
   "cell_type": "markdown",
   "id": "ee7f1c3b-a00b-4edc-b42b-fd20f56d445c",
   "metadata": {},
   "source": [
    "**Step 5: Binary Encoding**"
   ]
  },
  {
   "cell_type": "markdown",
   "id": "3b18f223-c748-4b60-a460-327e51efa75c",
   "metadata": {},
   "source": [
    "Convert the following binary fields:\n",
    "\n",
    "Column     --      Mapping\n",
    "\n",
    "online_order -- Yes → 1, No → 0\n",
    "\n",
    "book_table -- Yes → 1, No → 0\n",
    "\n"
   ]
  },
  {
   "cell_type": "code",
   "execution_count": 331,
   "id": "8b6e7238-d66f-41f2-bd71-f1b570e86e94",
   "metadata": {},
   "outputs": [
    {
     "name": "stderr",
     "output_type": "stream",
     "text": [
      "C:\\Users\\rohit\\AppData\\Local\\Temp\\ipykernel_7512\\2293027133.py:1: FutureWarning: Downcasting behavior in `replace` is deprecated and will be removed in a future version. To retain the old behavior, explicitly call `result.infer_objects(copy=False)`. To opt-in to the future behavior, set `pd.set_option('future.no_silent_downcasting', True)`\n",
      "  data_zomato['online_order'] = data_zomato['online_order'].replace({'Yes':1, 'No':0})\n",
      "C:\\Users\\rohit\\AppData\\Local\\Temp\\ipykernel_7512\\2293027133.py:2: FutureWarning: Downcasting behavior in `replace` is deprecated and will be removed in a future version. To retain the old behavior, explicitly call `result.infer_objects(copy=False)`. To opt-in to the future behavior, set `pd.set_option('future.no_silent_downcasting', True)`\n",
      "  data_zomato['book_table'] = data_zomato['book_table'].replace({'Yes':1, 'No':0})\n"
     ]
    }
   ],
   "source": [
    "data_zomato['online_order'] = data_zomato['online_order'].replace({'Yes':1, 'No':0})\n",
    "data_zomato['book_table'] = data_zomato['book_table'].replace({'Yes':1, 'No':0})"
   ]
  },
  {
   "cell_type": "code",
   "execution_count": null,
   "id": "2c72e629-3999-42fb-b0f1-4013411b7395",
   "metadata": {},
   "outputs": [],
   "source": []
  },
  {
   "cell_type": "markdown",
   "id": "5393cc6f-1497-4fa5-8cd3-bce395170ffd",
   "metadata": {},
   "source": [
    "**Step 6: Data Type Conversion**\n",
    "\n",
    "Ensure the following conversions:\n",
    "\n",
    "rate → float\n",
    "\n",
    "votes → integer\n",
    "\n",
    "approx_costfor_two_people → integer"
   ]
  },
  {
   "cell_type": "code",
   "execution_count": 333,
   "id": "2c086073-45d7-46d0-b3e8-4cf70dd1f336",
   "metadata": {},
   "outputs": [
    {
     "data": {
      "text/plain": [
       "dtype('float64')"
      ]
     },
     "execution_count": 333,
     "metadata": {},
     "output_type": "execute_result"
    }
   ],
   "source": [
    "data_zomato['rate'].dtype"
   ]
  },
  {
   "cell_type": "code",
   "execution_count": 335,
   "id": "17248dd7-e79f-4c4e-846e-1e564e74cceb",
   "metadata": {},
   "outputs": [
    {
     "data": {
      "text/plain": [
       "dtype('int64')"
      ]
     },
     "execution_count": 335,
     "metadata": {},
     "output_type": "execute_result"
    }
   ],
   "source": [
    "data_zomato['votes'].dtype"
   ]
  },
  {
   "cell_type": "code",
   "execution_count": 337,
   "id": "d31e067a-6872-40bf-aa19-7bcd82e5b54f",
   "metadata": {},
   "outputs": [
    {
     "data": {
      "text/plain": [
       "dtype('float64')"
      ]
     },
     "execution_count": 337,
     "metadata": {},
     "output_type": "execute_result"
    }
   ],
   "source": [
    "data_zomato['approx_costfor_two_people'].dtype"
   ]
  },
  {
   "cell_type": "code",
   "execution_count": 339,
   "id": "d18b4a76-9a93-4a6a-82cc-2fab93db3e2d",
   "metadata": {},
   "outputs": [],
   "source": [
    "data_zomato['approx_costfor_two_people'] = data_zomato['approx_costfor_two_people'].astype(int)"
   ]
  },
  {
   "cell_type": "code",
   "execution_count": 341,
   "id": "6d7da5d8-42e5-427c-8dca-9accb52df9be",
   "metadata": {},
   "outputs": [
    {
     "data": {
      "text/plain": [
       "dtype('int32')"
      ]
     },
     "execution_count": 341,
     "metadata": {},
     "output_type": "execute_result"
    }
   ],
   "source": [
    "data_zomato['approx_costfor_two_people'].dtype"
   ]
  },
  {
   "cell_type": "code",
   "execution_count": null,
   "id": "59b9b70b-19d7-451c-9d5f-3d9161ca3d44",
   "metadata": {},
   "outputs": [],
   "source": []
  },
  {
   "cell_type": "markdown",
   "id": "bd62255b-5936-4ab1-9684-c71e7e68675f",
   "metadata": {},
   "source": [
    "## Exploratory Data Analysis"
   ]
  },
  {
   "cell_type": "code",
   "execution_count": 343,
   "id": "a7190a07-fd27-4e91-b214-5fa1d19980e8",
   "metadata": {},
   "outputs": [
    {
     "name": "stdout",
     "output_type": "stream",
     "text": [
      "<class 'pandas.core.frame.DataFrame'>\n",
      "RangeIndex: 51717 entries, 0 to 51716\n",
      "Data columns (total 10 columns):\n",
      " #   Column                     Non-Null Count  Dtype  \n",
      "---  ------                     --------------  -----  \n",
      " 0   online_order               51717 non-null  int64  \n",
      " 1   book_table                 51717 non-null  int64  \n",
      " 2   rate                       51717 non-null  float64\n",
      " 3   votes                      51717 non-null  int64  \n",
      " 4   rest_type                  51717 non-null  object \n",
      " 5   dish_liked                 51717 non-null  object \n",
      " 6   cuisines                   51717 non-null  object \n",
      " 7   approx_costfor_two_people  51717 non-null  int32  \n",
      " 8   listed_intype              51717 non-null  object \n",
      " 9   listed_incity              51717 non-null  object \n",
      "dtypes: float64(1), int32(1), int64(3), object(5)\n",
      "memory usage: 3.7+ MB\n"
     ]
    }
   ],
   "source": [
    "data_zomato.info()"
   ]
  },
  {
   "cell_type": "code",
   "execution_count": 345,
   "id": "64c5cd58-28a8-4182-845d-31a4de673aab",
   "metadata": {},
   "outputs": [
    {
     "data": {
      "text/html": [
       "<div>\n",
       "<style scoped>\n",
       "    .dataframe tbody tr th:only-of-type {\n",
       "        vertical-align: middle;\n",
       "    }\n",
       "\n",
       "    .dataframe tbody tr th {\n",
       "        vertical-align: top;\n",
       "    }\n",
       "\n",
       "    .dataframe thead th {\n",
       "        text-align: right;\n",
       "    }\n",
       "</style>\n",
       "<table border=\"1\" class=\"dataframe\">\n",
       "  <thead>\n",
       "    <tr style=\"text-align: right;\">\n",
       "      <th></th>\n",
       "      <th>online_order</th>\n",
       "      <th>book_table</th>\n",
       "      <th>rate</th>\n",
       "      <th>votes</th>\n",
       "      <th>approx_costfor_two_people</th>\n",
       "    </tr>\n",
       "  </thead>\n",
       "  <tbody>\n",
       "    <tr>\n",
       "      <th>count</th>\n",
       "      <td>51717.000000</td>\n",
       "      <td>51717.000000</td>\n",
       "      <td>51717.000000</td>\n",
       "      <td>51717.000000</td>\n",
       "      <td>51717.000000</td>\n",
       "    </tr>\n",
       "    <tr>\n",
       "      <th>mean</th>\n",
       "      <td>0.588665</td>\n",
       "      <td>0.124698</td>\n",
       "      <td>3.700362</td>\n",
       "      <td>283.697527</td>\n",
       "      <td>554.391689</td>\n",
       "    </tr>\n",
       "    <tr>\n",
       "      <th>std</th>\n",
       "      <td>0.492080</td>\n",
       "      <td>0.330379</td>\n",
       "      <td>0.395391</td>\n",
       "      <td>803.838853</td>\n",
       "      <td>437.563723</td>\n",
       "    </tr>\n",
       "    <tr>\n",
       "      <th>min</th>\n",
       "      <td>0.000000</td>\n",
       "      <td>0.000000</td>\n",
       "      <td>1.800000</td>\n",
       "      <td>0.000000</td>\n",
       "      <td>40.000000</td>\n",
       "    </tr>\n",
       "    <tr>\n",
       "      <th>25%</th>\n",
       "      <td>0.000000</td>\n",
       "      <td>0.000000</td>\n",
       "      <td>3.500000</td>\n",
       "      <td>7.000000</td>\n",
       "      <td>300.000000</td>\n",
       "    </tr>\n",
       "    <tr>\n",
       "      <th>50%</th>\n",
       "      <td>1.000000</td>\n",
       "      <td>0.000000</td>\n",
       "      <td>3.700000</td>\n",
       "      <td>41.000000</td>\n",
       "      <td>400.000000</td>\n",
       "    </tr>\n",
       "    <tr>\n",
       "      <th>75%</th>\n",
       "      <td>1.000000</td>\n",
       "      <td>0.000000</td>\n",
       "      <td>3.900000</td>\n",
       "      <td>198.000000</td>\n",
       "      <td>650.000000</td>\n",
       "    </tr>\n",
       "    <tr>\n",
       "      <th>max</th>\n",
       "      <td>1.000000</td>\n",
       "      <td>1.000000</td>\n",
       "      <td>4.900000</td>\n",
       "      <td>16832.000000</td>\n",
       "      <td>6000.000000</td>\n",
       "    </tr>\n",
       "  </tbody>\n",
       "</table>\n",
       "</div>"
      ],
      "text/plain": [
       "       online_order    book_table          rate         votes  \\\n",
       "count  51717.000000  51717.000000  51717.000000  51717.000000   \n",
       "mean       0.588665      0.124698      3.700362    283.697527   \n",
       "std        0.492080      0.330379      0.395391    803.838853   \n",
       "min        0.000000      0.000000      1.800000      0.000000   \n",
       "25%        0.000000      0.000000      3.500000      7.000000   \n",
       "50%        1.000000      0.000000      3.700000     41.000000   \n",
       "75%        1.000000      0.000000      3.900000    198.000000   \n",
       "max        1.000000      1.000000      4.900000  16832.000000   \n",
       "\n",
       "       approx_costfor_two_people  \n",
       "count               51717.000000  \n",
       "mean                  554.391689  \n",
       "std                   437.563723  \n",
       "min                    40.000000  \n",
       "25%                   300.000000  \n",
       "50%                   400.000000  \n",
       "75%                   650.000000  \n",
       "max                  6000.000000  "
      ]
     },
     "execution_count": 345,
     "metadata": {},
     "output_type": "execute_result"
    }
   ],
   "source": [
    "data_zomato.describe()"
   ]
  },
  {
   "cell_type": "code",
   "execution_count": 347,
   "id": "6a35b782-cea8-4504-9d9d-492d8a51291e",
   "metadata": {},
   "outputs": [
    {
     "data": {
      "text/html": [
       "<div>\n",
       "<style scoped>\n",
       "    .dataframe tbody tr th:only-of-type {\n",
       "        vertical-align: middle;\n",
       "    }\n",
       "\n",
       "    .dataframe tbody tr th {\n",
       "        vertical-align: top;\n",
       "    }\n",
       "\n",
       "    .dataframe thead th {\n",
       "        text-align: right;\n",
       "    }\n",
       "</style>\n",
       "<table border=\"1\" class=\"dataframe\">\n",
       "  <thead>\n",
       "    <tr style=\"text-align: right;\">\n",
       "      <th></th>\n",
       "      <th>rest_type</th>\n",
       "      <th>dish_liked</th>\n",
       "      <th>cuisines</th>\n",
       "      <th>listed_intype</th>\n",
       "      <th>listed_incity</th>\n",
       "    </tr>\n",
       "  </thead>\n",
       "  <tbody>\n",
       "    <tr>\n",
       "      <th>count</th>\n",
       "      <td>51717</td>\n",
       "      <td>51717</td>\n",
       "      <td>51717</td>\n",
       "      <td>51717</td>\n",
       "      <td>51717</td>\n",
       "    </tr>\n",
       "    <tr>\n",
       "      <th>unique</th>\n",
       "      <td>94</td>\n",
       "      <td>5272</td>\n",
       "      <td>2724</td>\n",
       "      <td>7</td>\n",
       "      <td>30</td>\n",
       "    </tr>\n",
       "    <tr>\n",
       "      <th>top</th>\n",
       "      <td>Quick Bites</td>\n",
       "      <td>Not Available</td>\n",
       "      <td>North Indian</td>\n",
       "      <td>Delivery</td>\n",
       "      <td>BTM</td>\n",
       "    </tr>\n",
       "    <tr>\n",
       "      <th>freq</th>\n",
       "      <td>19132</td>\n",
       "      <td>28078</td>\n",
       "      <td>2913</td>\n",
       "      <td>25942</td>\n",
       "      <td>3279</td>\n",
       "    </tr>\n",
       "  </tbody>\n",
       "</table>\n",
       "</div>"
      ],
      "text/plain": [
       "          rest_type     dish_liked      cuisines listed_intype listed_incity\n",
       "count         51717          51717         51717         51717         51717\n",
       "unique           94           5272          2724             7            30\n",
       "top     Quick Bites  Not Available  North Indian      Delivery           BTM\n",
       "freq          19132          28078          2913         25942          3279"
      ]
     },
     "execution_count": 347,
     "metadata": {},
     "output_type": "execute_result"
    }
   ],
   "source": [
    "data_zomato.describe(include='O')"
   ]
  },
  {
   "cell_type": "code",
   "execution_count": 349,
   "id": "6763d4d8-ae1f-4409-86bc-830f5e6996c6",
   "metadata": {},
   "outputs": [
    {
     "data": {
      "text/plain": [
       "957"
      ]
     },
     "execution_count": 349,
     "metadata": {},
     "output_type": "execute_result"
    }
   ],
   "source": [
    "data_zomato.duplicated().sum()"
   ]
  },
  {
   "cell_type": "code",
   "execution_count": 351,
   "id": "10e83766-0897-4eab-a6f4-0169478f6c90",
   "metadata": {},
   "outputs": [],
   "source": [
    "data_zomato.drop_duplicates(inplace=True)"
   ]
  },
  {
   "cell_type": "code",
   "execution_count": 353,
   "id": "495cf0ec-c76c-426a-89cc-88a55976730e",
   "metadata": {},
   "outputs": [
    {
     "data": {
      "text/plain": [
       "0"
      ]
     },
     "execution_count": 353,
     "metadata": {},
     "output_type": "execute_result"
    }
   ],
   "source": [
    "data_zomato.duplicated().sum()"
   ]
  },
  {
   "cell_type": "code",
   "execution_count": 355,
   "id": "86123e78-ac5e-409c-8af2-edca4e7fdb49",
   "metadata": {},
   "outputs": [
    {
     "data": {
      "text/plain": [
       "online_order                 0.0\n",
       "book_table                   0.0\n",
       "rate                         0.0\n",
       "votes                        0.0\n",
       "rest_type                    0.0\n",
       "dish_liked                   0.0\n",
       "cuisines                     0.0\n",
       "approx_costfor_two_people    0.0\n",
       "listed_intype                0.0\n",
       "listed_incity                0.0\n",
       "dtype: float64"
      ]
     },
     "execution_count": 355,
     "metadata": {},
     "output_type": "execute_result"
    }
   ],
   "source": [
    "data_zomato.isnull().sum() / len(data_zomato) * 100"
   ]
  },
  {
   "cell_type": "code",
   "execution_count": null,
   "id": "4954324b-2cac-4b79-bb55-19895423744e",
   "metadata": {},
   "outputs": [],
   "source": []
  },
  {
   "cell_type": "markdown",
   "id": "e1a8ec35-6824-47e9-a58b-2d11d1a2e879",
   "metadata": {},
   "source": [
    "## Uni-Variate Analysis"
   ]
  },
  {
   "cell_type": "code",
   "execution_count": 415,
   "id": "829e784f-5a06-4611-85b3-ef4f7516645f",
   "metadata": {},
   "outputs": [
    {
     "data": {
      "text/plain": [
       "Index(['online_order', 'book_table', 'rate', 'votes',\n",
       "       'approx_costfor_two_people'],\n",
       "      dtype='object')"
      ]
     },
     "execution_count": 415,
     "metadata": {},
     "output_type": "execute_result"
    }
   ],
   "source": [
    "data_zomato.select_dtypes(['number']).columns"
   ]
  },
  {
   "cell_type": "code",
   "execution_count": 448,
   "id": "a13add1e-d08a-40a2-b739-14c0ff70ae92",
   "metadata": {},
   "outputs": [
    {
     "data": {
      "image/png": "[encoded data removed]",
      "text/plain": [
       "<Figure size 1000x400 with 1 Axes>"
      ]
     },
     "metadata": {},
     "output_type": "display_data"
    }
   ],
   "source": [
    "plt.figure(figsize=(10, 4)) \n",
    "sns.boxplot(x=data_zomato['rate'], color='skyblue')\n",
    "plt.title(\"Boxplot of Approx Cost for Two\", fontsize=14)\n",
    "plt.xlabel(\"Ratings\", fontsize=12)\n",
    "plt.tight_layout()\n",
    "plt.show()"
   ]
  },
  {
   "cell_type": "code",
   "execution_count": 444,
   "id": "23d70f95-86ac-470c-85b8-f39f8dbc8505",
   "metadata": {},
   "outputs": [
    {
     "data": {
      "image/png": "[encoded data removed]",
      "text/plain": [
       "<Figure size 1000x400 with 1 Axes>"
      ]
     },
     "metadata": {},
     "output_type": "display_data"
    }
   ],
   "source": [
    "plt.figure(figsize=(10, 4)) \n",
    "sns.boxplot(x=data_zomato['approx_costfor_two_people'], color='skyblue')\n",
    "plt.title(\"Boxplot of Approx Cost for Two\", fontsize=14)\n",
    "plt.xlabel(\"Cost (in ₹)\", fontsize=12)\n",
    "plt.tight_layout()\n",
    "plt.show()"
   ]
  },
  {
   "cell_type": "code",
   "execution_count": 452,
   "id": "06b0a288-ea58-482c-b4a7-f871635cc76a",
   "metadata": {},
   "outputs": [
    {
     "data": {
      "image/png": "[encoded data removed]",
      "text/plain": [
       "<Figure size 1000x300 with 1 Axes>"
      ]
     },
     "metadata": {},
     "output_type": "display_data"
    }
   ],
   "source": [
    "plt.figure(figsize=(10, 3)) \n",
    "sns.boxplot(x=data_zomato['votes'], color='skyblue')\n",
    "plt.title(\"Votes\", fontsize=14)\n",
    "plt.xlabel(\"Cost (in ₹)\", fontsize=12)\n",
    "plt.tight_layout()\n",
    "plt.show()"
   ]
  },
  {
   "cell_type": "code",
   "execution_count": null,
   "id": "0fe3e17b-a0c1-49ad-9abf-6691edced982",
   "metadata": {},
   "outputs": [],
   "source": [
    "# As there are many outliers "
   ]
  },
  {
   "cell_type": "code",
   "execution_count": 454,
   "id": "c6dca52f-d3b2-4252-9411-167224c3ce9e",
   "metadata": {},
   "outputs": [
    {
     "data": {
      "image/png": "[encoded data removed]",
      "text/plain": [
       "<Figure size 1200x400 with 1 Axes>"
      ]
     },
     "metadata": {},
     "output_type": "display_data"
    }
   ],
   "source": [
    "plt.figure(figsize=(12, 4))\n",
    "sns.boxplot(x=np.log1p(data_zomato['votes']), color='lightgreen')\n",
    "plt.title(\"Boxplot of Votes (Log Transformed)\", fontsize=14)\n",
    "plt.xlabel(\"Log(Votes)\", fontsize=12)\n",
    "plt.tight_layout()\n",
    "plt.show()"
   ]
  },
  {
   "cell_type": "code",
   "execution_count": 456,
   "id": "4e1be648-79a0-4d2d-9655-7210f9ba573b",
   "metadata": {},
   "outputs": [
    {
     "data": {
      "image/png": "[encoded data removed]",
      "text/plain": [
       "<Figure size 1200x400 with 1 Axes>"
      ]
     },
     "metadata": {},
     "output_type": "display_data"
    }
   ],
   "source": [
    "plt.figure(figsize=(12, 4))\n",
    "sns.boxplot(x=np.log1p(data_zomato['approx_costfor_two_people']), color='skyblue')\n",
    "plt.title(\"Boxplot of Approx Cost for Two (Log Transformed)\", fontsize=14)\n",
    "plt.xlabel(\"Log(Cost)\", fontsize=12)\n",
    "plt.tight_layout()\n",
    "plt.show()"
   ]
  },
  {
   "cell_type": "code",
   "execution_count": 462,
   "id": "3df823ec-29f3-4c3a-bd44-54769c93b52a",
   "metadata": {},
   "outputs": [
    {
     "data": {
      "text/plain": [
       "Index(['rest_type', 'dish_liked', 'cuisines', 'listed_intype',\n",
       "       'listed_incity'],\n",
       "      dtype='object')"
      ]
     },
     "execution_count": 462,
     "metadata": {},
     "output_type": "execute_result"
    }
   ],
   "source": [
    "data_zomato.select_dtypes(['object']).columns"
   ]
  },
  {
   "cell_type": "code",
   "execution_count": 464,
   "id": "e71ef7fb-8825-4d16-ae8c-04743c032481",
   "metadata": {},
   "outputs": [],
   "source": [
    "grouped_city = data_zomato.groupby('listed_incity', as_index=False).agg({\n",
    "    'votes': 'mean',\n",
    "    'rate': 'mean',\n",
    "    'approx_costfor_two_people': 'mean'\n",
    "}).sort_values(by='votes', ascending=False)"
   ]
  },
  {
   "cell_type": "markdown",
   "id": "8b3d33d3-d5a3-4084-baeb-ce63576980e0",
   "metadata": {},
   "source": [
    "**1. Votes by City**"
   ]
  },
  {
   "cell_type": "code",
   "execution_count": 468,
   "id": "6b98b66c-f16e-4273-b183-8f8cc23b9d42",
   "metadata": {},
   "outputs": [
    {
     "data": {
      "image/png": "[encoded data removed]",
      "text/plain": [
       "<Figure size 1400x500 with 1 Axes>"
      ]
     },
     "metadata": {},
     "output_type": "display_data"
    }
   ],
   "source": [
    "plt.figure(figsize=(14, 5))\n",
    "sns.barplot(x='listed_incity', y='votes', data=grouped_city, palette='viridis')\n",
    "plt.title(\"Average Votes by City\")\n",
    "plt.xticks(rotation=45)\n",
    "plt.tight_layout()\n",
    "plt.show()"
   ]
  },
  {
   "cell_type": "markdown",
   "id": "02823f02-0b00-4bf2-8182-edfff76efeb5",
   "metadata": {},
   "source": [
    "**2. Rate by City**"
   ]
  },
  {
   "cell_type": "code",
   "execution_count": 478,
   "id": "4a62f569-4501-4e59-884c-09f2b07f0e44",
   "metadata": {},
   "outputs": [
    {
     "data": {
      "image/png": "[encoded data removed]",
      "text/plain": [
       "<Figure size 1400x500 with 1 Axes>"
      ]
     },
     "metadata": {},
     "output_type": "display_data"
    }
   ],
   "source": [
    "plt.figure(figsize=(14, 5))\n",
    "sns.barplot(x='listed_incity', y='rate', data=grouped_city, palette='coolwarm')\n",
    "plt.title(\"Average Rating by City\")\n",
    "plt.xticks(rotation=45)\n",
    "plt.tight_layout()\n",
    "plt.show()"
   ]
  },
  {
   "cell_type": "markdown",
   "id": "bee6c59d-1e15-41e4-afd3-b24fe368cf11",
   "metadata": {},
   "source": [
    "**3. Approx Cost for Two by City**"
   ]
  },
  {
   "cell_type": "code",
   "execution_count": 487,
   "id": "b1a5b0a9-6371-4d88-8591-7ff530568e8e",
   "metadata": {},
   "outputs": [
    {
     "data": {
      "image/png": "[encoded data removed]",
      "text/plain": [
       "<Figure size 1400x500 with 1 Axes>"
      ]
     },
     "metadata": {},
     "output_type": "display_data"
    }
   ],
   "source": [
    "plt.figure(figsize=(14, 5))\n",
    "sns.barplot(x='listed_incity', y='approx_costfor_two_people', data=grouped_city, palette='Greens')\n",
    "plt.title(\"Average Cost for Two by City\")\n",
    "plt.xticks(rotation=45)\n",
    "plt.tight_layout()\n",
    "plt.show()"
   ]
  },
  {
   "cell_type": "code",
   "execution_count": null,
   "id": "8e9ac7fe-b593-49fa-b7ce-ede6ef7227f1",
   "metadata": {},
   "outputs": [],
   "source": []
  },
  {
   "cell_type": "markdown",
   "id": "088ef7a4-8ba1-49bc-98f2-dfb74d1eb8fe",
   "metadata": {},
   "source": [
    "## Merging datasets"
   ]
  },
  {
   "cell_type": "code",
   "execution_count": 490,
   "id": "96830e86-ee11-4e4e-8f54-45f92ad39874",
   "metadata": {},
   "outputs": [
    {
     "data": {
      "text/html": [
       "<div>\n",
       "<style scoped>\n",
       "    .dataframe tbody tr th:only-of-type {\n",
       "        vertical-align: middle;\n",
       "    }\n",
       "\n",
       "    .dataframe tbody tr th {\n",
       "        vertical-align: top;\n",
       "    }\n",
       "\n",
       "    .dataframe thead th {\n",
       "        text-align: right;\n",
       "    }\n",
       "</style>\n",
       "<table border=\"1\" class=\"dataframe\">\n",
       "  <thead>\n",
       "    <tr style=\"text-align: right;\">\n",
       "      <th></th>\n",
       "      <th>listed_incity</th>\n",
       "      <th>Latitude</th>\n",
       "      <th>Longitude</th>\n",
       "    </tr>\n",
       "  </thead>\n",
       "  <tbody>\n",
       "    <tr>\n",
       "      <th>0</th>\n",
       "      <td>Banashankari</td>\n",
       "      <td>12.939333</td>\n",
       "      <td>77.553982</td>\n",
       "    </tr>\n",
       "    <tr>\n",
       "      <th>1</th>\n",
       "      <td>Bannerghatta Road</td>\n",
       "      <td>12.952660</td>\n",
       "      <td>77.605048</td>\n",
       "    </tr>\n",
       "    <tr>\n",
       "      <th>2</th>\n",
       "      <td>Basavanagudi</td>\n",
       "      <td>12.941726</td>\n",
       "      <td>77.575502</td>\n",
       "    </tr>\n",
       "    <tr>\n",
       "      <th>3</th>\n",
       "      <td>Bellandur</td>\n",
       "      <td>12.925352</td>\n",
       "      <td>77.675941</td>\n",
       "    </tr>\n",
       "    <tr>\n",
       "      <th>4</th>\n",
       "      <td>Brigade Road</td>\n",
       "      <td>12.967358</td>\n",
       "      <td>77.606435</td>\n",
       "    </tr>\n",
       "    <tr>\n",
       "      <th>5</th>\n",
       "      <td>Brookefield</td>\n",
       "      <td>12.963814</td>\n",
       "      <td>77.722437</td>\n",
       "    </tr>\n",
       "    <tr>\n",
       "      <th>6</th>\n",
       "      <td>BTM</td>\n",
       "      <td>12.916360</td>\n",
       "      <td>77.604733</td>\n",
       "    </tr>\n",
       "    <tr>\n",
       "      <th>7</th>\n",
       "      <td>Church Street</td>\n",
       "      <td>12.974914</td>\n",
       "      <td>77.605247</td>\n",
       "    </tr>\n",
       "    <tr>\n",
       "      <th>8</th>\n",
       "      <td>Electronic City</td>\n",
       "      <td>12.848760</td>\n",
       "      <td>77.648253</td>\n",
       "    </tr>\n",
       "    <tr>\n",
       "      <th>9</th>\n",
       "      <td>Frazer Town</td>\n",
       "      <td>12.998683</td>\n",
       "      <td>77.615525</td>\n",
       "    </tr>\n",
       "    <tr>\n",
       "      <th>10</th>\n",
       "      <td>HSR</td>\n",
       "      <td>12.900563</td>\n",
       "      <td>77.649475</td>\n",
       "    </tr>\n",
       "    <tr>\n",
       "      <th>11</th>\n",
       "      <td>Indiranagar</td>\n",
       "      <td>12.996298</td>\n",
       "      <td>77.545278</td>\n",
       "    </tr>\n",
       "    <tr>\n",
       "      <th>12</th>\n",
       "      <td>Jayanagar</td>\n",
       "      <td>12.939904</td>\n",
       "      <td>77.582638</td>\n",
       "    </tr>\n",
       "    <tr>\n",
       "      <th>13</th>\n",
       "      <td>JP Nagar</td>\n",
       "      <td>12.909694</td>\n",
       "      <td>77.586607</td>\n",
       "    </tr>\n",
       "    <tr>\n",
       "      <th>14</th>\n",
       "      <td>Kalyan Nagar</td>\n",
       "      <td>13.022142</td>\n",
       "      <td>77.640337</td>\n",
       "    </tr>\n",
       "    <tr>\n",
       "      <th>15</th>\n",
       "      <td>Kammanahalli</td>\n",
       "      <td>13.014854</td>\n",
       "      <td>77.638203</td>\n",
       "    </tr>\n",
       "    <tr>\n",
       "      <th>16</th>\n",
       "      <td>Koramangala 4th Block</td>\n",
       "      <td>12.932778</td>\n",
       "      <td>77.629405</td>\n",
       "    </tr>\n",
       "    <tr>\n",
       "      <th>17</th>\n",
       "      <td>Koramangala 5th Block</td>\n",
       "      <td>12.934843</td>\n",
       "      <td>77.618977</td>\n",
       "    </tr>\n",
       "    <tr>\n",
       "      <th>18</th>\n",
       "      <td>Koramangala 6th Block</td>\n",
       "      <td>12.939025</td>\n",
       "      <td>77.623848</td>\n",
       "    </tr>\n",
       "    <tr>\n",
       "      <th>19</th>\n",
       "      <td>Koramangala 7th Block</td>\n",
       "      <td>12.936485</td>\n",
       "      <td>77.613478</td>\n",
       "    </tr>\n",
       "    <tr>\n",
       "      <th>20</th>\n",
       "      <td>Lavelle Road</td>\n",
       "      <td>12.968340</td>\n",
       "      <td>77.596507</td>\n",
       "    </tr>\n",
       "    <tr>\n",
       "      <th>21</th>\n",
       "      <td>Malleshwaram</td>\n",
       "      <td>13.002735</td>\n",
       "      <td>77.570325</td>\n",
       "    </tr>\n",
       "    <tr>\n",
       "      <th>22</th>\n",
       "      <td>Marathahalli</td>\n",
       "      <td>12.955257</td>\n",
       "      <td>77.698416</td>\n",
       "    </tr>\n",
       "    <tr>\n",
       "      <th>23</th>\n",
       "      <td>MG Road</td>\n",
       "      <td>12.975526</td>\n",
       "      <td>77.606790</td>\n",
       "    </tr>\n",
       "    <tr>\n",
       "      <th>24</th>\n",
       "      <td>New BEL Road</td>\n",
       "      <td>13.039186</td>\n",
       "      <td>77.564284</td>\n",
       "    </tr>\n",
       "    <tr>\n",
       "      <th>25</th>\n",
       "      <td>Old Airport Road</td>\n",
       "      <td>12.960632</td>\n",
       "      <td>77.642500</td>\n",
       "    </tr>\n",
       "  </tbody>\n",
       "</table>\n",
       "</div>"
      ],
      "text/plain": [
       "            listed_incity   Latitude  Longitude\n",
       "0            Banashankari  12.939333  77.553982\n",
       "1       Bannerghatta Road  12.952660  77.605048\n",
       "2            Basavanagudi  12.941726  77.575502\n",
       "3               Bellandur  12.925352  77.675941\n",
       "4            Brigade Road  12.967358  77.606435\n",
       "5             Brookefield  12.963814  77.722437\n",
       "6                     BTM  12.916360  77.604733\n",
       "7           Church Street  12.974914  77.605247\n",
       "8         Electronic City  12.848760  77.648253\n",
       "9             Frazer Town  12.998683  77.615525\n",
       "10                    HSR  12.900563  77.649475\n",
       "11            Indiranagar  12.996298  77.545278\n",
       "12              Jayanagar  12.939904  77.582638\n",
       "13               JP Nagar  12.909694  77.586607\n",
       "14           Kalyan Nagar  13.022142  77.640337\n",
       "15           Kammanahalli  13.014854  77.638203\n",
       "16  Koramangala 4th Block  12.932778  77.629405\n",
       "17  Koramangala 5th Block  12.934843  77.618977\n",
       "18  Koramangala 6th Block  12.939025  77.623848\n",
       "19  Koramangala 7th Block  12.936485  77.613478\n",
       "20           Lavelle Road  12.968340  77.596507\n",
       "21           Malleshwaram  13.002735  77.570325\n",
       "22           Marathahalli  12.955257  77.698416\n",
       "23                MG Road  12.975526  77.606790\n",
       "24           New BEL Road  13.039186  77.564284\n",
       "25       Old Airport Road  12.960632  77.642500"
      ]
     },
     "execution_count": 490,
     "metadata": {},
     "output_type": "execute_result"
    }
   ],
   "source": [
    "df_ = pd.read_csv('Geographical Coordinates.csv')\n",
    "data_geo = df_.copy()\n",
    "data_geo"
   ]
  },
  {
   "cell_type": "code",
   "execution_count": 492,
   "id": "9bb64aee-3ed6-4357-a1bf-fd9bd00ed051",
   "metadata": {},
   "outputs": [
    {
     "data": {
      "text/html": [
       "<div>\n",
       "<style scoped>\n",
       "    .dataframe tbody tr th:only-of-type {\n",
       "        vertical-align: middle;\n",
       "    }\n",
       "\n",
       "    .dataframe tbody tr th {\n",
       "        vertical-align: top;\n",
       "    }\n",
       "\n",
       "    .dataframe thead th {\n",
       "        text-align: right;\n",
       "    }\n",
       "</style>\n",
       "<table border=\"1\" class=\"dataframe\">\n",
       "  <thead>\n",
       "    <tr style=\"text-align: right;\">\n",
       "      <th></th>\n",
       "      <th>online_order</th>\n",
       "      <th>book_table</th>\n",
       "      <th>rate</th>\n",
       "      <th>votes</th>\n",
       "      <th>rest_type</th>\n",
       "      <th>dish_liked</th>\n",
       "      <th>cuisines</th>\n",
       "      <th>approx_costfor_two_people</th>\n",
       "      <th>listed_intype</th>\n",
       "      <th>listed_incity</th>\n",
       "      <th>log_votes</th>\n",
       "      <th>Latitude</th>\n",
       "      <th>Longitude</th>\n",
       "    </tr>\n",
       "  </thead>\n",
       "  <tbody>\n",
       "    <tr>\n",
       "      <th>0</th>\n",
       "      <td>1</td>\n",
       "      <td>1</td>\n",
       "      <td>4.1</td>\n",
       "      <td>775</td>\n",
       "      <td>Casual Dining</td>\n",
       "      <td>Pasta, Lunch Buffet, Masala Papad, Paneer Laja...</td>\n",
       "      <td>North Indian, Mughlai, Chinese</td>\n",
       "      <td>800</td>\n",
       "      <td>Buffet</td>\n",
       "      <td>Banashankari</td>\n",
       "      <td>6.654153</td>\n",
       "      <td>12.939333</td>\n",
       "      <td>77.553982</td>\n",
       "    </tr>\n",
       "    <tr>\n",
       "      <th>1</th>\n",
       "      <td>1</td>\n",
       "      <td>0</td>\n",
       "      <td>4.1</td>\n",
       "      <td>787</td>\n",
       "      <td>Casual Dining</td>\n",
       "      <td>Momos, Lunch Buffet, Chocolate Nirvana, Thai G...</td>\n",
       "      <td>Chinese, North Indian, Thai</td>\n",
       "      <td>800</td>\n",
       "      <td>Buffet</td>\n",
       "      <td>Banashankari</td>\n",
       "      <td>6.669498</td>\n",
       "      <td>12.939333</td>\n",
       "      <td>77.553982</td>\n",
       "    </tr>\n",
       "    <tr>\n",
       "      <th>2</th>\n",
       "      <td>1</td>\n",
       "      <td>0</td>\n",
       "      <td>3.8</td>\n",
       "      <td>918</td>\n",
       "      <td>Cafe, Casual Dining</td>\n",
       "      <td>Churros, Cannelloni, Minestrone Soup, Hot Choc...</td>\n",
       "      <td>Cafe, Mexican, Italian</td>\n",
       "      <td>800</td>\n",
       "      <td>Buffet</td>\n",
       "      <td>Banashankari</td>\n",
       "      <td>6.823286</td>\n",
       "      <td>12.939333</td>\n",
       "      <td>77.553982</td>\n",
       "    </tr>\n",
       "    <tr>\n",
       "      <th>3</th>\n",
       "      <td>0</td>\n",
       "      <td>0</td>\n",
       "      <td>3.7</td>\n",
       "      <td>88</td>\n",
       "      <td>Quick Bites</td>\n",
       "      <td>Masala Dosa</td>\n",
       "      <td>South Indian, North Indian</td>\n",
       "      <td>300</td>\n",
       "      <td>Buffet</td>\n",
       "      <td>Banashankari</td>\n",
       "      <td>4.488636</td>\n",
       "      <td>12.939333</td>\n",
       "      <td>77.553982</td>\n",
       "    </tr>\n",
       "    <tr>\n",
       "      <th>4</th>\n",
       "      <td>0</td>\n",
       "      <td>0</td>\n",
       "      <td>3.8</td>\n",
       "      <td>166</td>\n",
       "      <td>Casual Dining</td>\n",
       "      <td>Panipuri, Gol Gappe</td>\n",
       "      <td>North Indian, Rajasthani</td>\n",
       "      <td>600</td>\n",
       "      <td>Buffet</td>\n",
       "      <td>Banashankari</td>\n",
       "      <td>5.117994</td>\n",
       "      <td>12.939333</td>\n",
       "      <td>77.553982</td>\n",
       "    </tr>\n",
       "    <tr>\n",
       "      <th>...</th>\n",
       "      <td>...</td>\n",
       "      <td>...</td>\n",
       "      <td>...</td>\n",
       "      <td>...</td>\n",
       "      <td>...</td>\n",
       "      <td>...</td>\n",
       "      <td>...</td>\n",
       "      <td>...</td>\n",
       "      <td>...</td>\n",
       "      <td>...</td>\n",
       "      <td>...</td>\n",
       "      <td>...</td>\n",
       "      <td>...</td>\n",
       "    </tr>\n",
       "    <tr>\n",
       "      <th>50755</th>\n",
       "      <td>0</td>\n",
       "      <td>0</td>\n",
       "      <td>3.6</td>\n",
       "      <td>27</td>\n",
       "      <td>Bar</td>\n",
       "      <td>Not Available</td>\n",
       "      <td>Continental</td>\n",
       "      <td>1500</td>\n",
       "      <td>Pubs and bars</td>\n",
       "      <td>Whitefield</td>\n",
       "      <td>3.332205</td>\n",
       "      <td>NaN</td>\n",
       "      <td>NaN</td>\n",
       "    </tr>\n",
       "    <tr>\n",
       "      <th>50756</th>\n",
       "      <td>0</td>\n",
       "      <td>0</td>\n",
       "      <td>3.7</td>\n",
       "      <td>0</td>\n",
       "      <td>Bar</td>\n",
       "      <td>Not Available</td>\n",
       "      <td>Finger Food</td>\n",
       "      <td>600</td>\n",
       "      <td>Pubs and bars</td>\n",
       "      <td>Whitefield</td>\n",
       "      <td>0.000000</td>\n",
       "      <td>NaN</td>\n",
       "      <td>NaN</td>\n",
       "    </tr>\n",
       "    <tr>\n",
       "      <th>50757</th>\n",
       "      <td>0</td>\n",
       "      <td>0</td>\n",
       "      <td>3.7</td>\n",
       "      <td>0</td>\n",
       "      <td>Bar</td>\n",
       "      <td>Not Available</td>\n",
       "      <td>Finger Food</td>\n",
       "      <td>2000</td>\n",
       "      <td>Pubs and bars</td>\n",
       "      <td>Whitefield</td>\n",
       "      <td>0.000000</td>\n",
       "      <td>NaN</td>\n",
       "      <td>NaN</td>\n",
       "    </tr>\n",
       "    <tr>\n",
       "      <th>50758</th>\n",
       "      <td>0</td>\n",
       "      <td>1</td>\n",
       "      <td>4.3</td>\n",
       "      <td>236</td>\n",
       "      <td>Bar</td>\n",
       "      <td>Cocktails, Pizza, Buttermilk</td>\n",
       "      <td>Finger Food</td>\n",
       "      <td>2500</td>\n",
       "      <td>Pubs and bars</td>\n",
       "      <td>Whitefield</td>\n",
       "      <td>5.468060</td>\n",
       "      <td>NaN</td>\n",
       "      <td>NaN</td>\n",
       "    </tr>\n",
       "    <tr>\n",
       "      <th>50759</th>\n",
       "      <td>0</td>\n",
       "      <td>0</td>\n",
       "      <td>3.4</td>\n",
       "      <td>13</td>\n",
       "      <td>Bar, Casual Dining</td>\n",
       "      <td>Not Available</td>\n",
       "      <td>Finger Food, North Indian, Continental</td>\n",
       "      <td>1500</td>\n",
       "      <td>Pubs and bars</td>\n",
       "      <td>Whitefield</td>\n",
       "      <td>2.639057</td>\n",
       "      <td>NaN</td>\n",
       "      <td>NaN</td>\n",
       "    </tr>\n",
       "  </tbody>\n",
       "</table>\n",
       "<p>50760 rows × 13 columns</p>\n",
       "</div>"
      ],
      "text/plain": [
       "       online_order  book_table  rate  votes            rest_type  \\\n",
       "0                 1           1   4.1    775        Casual Dining   \n",
       "1                 1           0   4.1    787        Casual Dining   \n",
       "2                 1           0   3.8    918  Cafe, Casual Dining   \n",
       "3                 0           0   3.7     88          Quick Bites   \n",
       "4                 0           0   3.8    166        Casual Dining   \n",
       "...             ...         ...   ...    ...                  ...   \n",
       "50755             0           0   3.6     27                  Bar   \n",
       "50756             0           0   3.7      0                  Bar   \n",
       "50757             0           0   3.7      0                  Bar   \n",
       "50758             0           1   4.3    236                  Bar   \n",
       "50759             0           0   3.4     13   Bar, Casual Dining   \n",
       "\n",
       "                                              dish_liked  \\\n",
       "0      Pasta, Lunch Buffet, Masala Papad, Paneer Laja...   \n",
       "1      Momos, Lunch Buffet, Chocolate Nirvana, Thai G...   \n",
       "2      Churros, Cannelloni, Minestrone Soup, Hot Choc...   \n",
       "3                                            Masala Dosa   \n",
       "4                                    Panipuri, Gol Gappe   \n",
       "...                                                  ...   \n",
       "50755                                      Not Available   \n",
       "50756                                      Not Available   \n",
       "50757                                      Not Available   \n",
       "50758                       Cocktails, Pizza, Buttermilk   \n",
       "50759                                      Not Available   \n",
       "\n",
       "                                     cuisines  approx_costfor_two_people  \\\n",
       "0              North Indian, Mughlai, Chinese                        800   \n",
       "1                 Chinese, North Indian, Thai                        800   \n",
       "2                      Cafe, Mexican, Italian                        800   \n",
       "3                  South Indian, North Indian                        300   \n",
       "4                    North Indian, Rajasthani                        600   \n",
       "...                                       ...                        ...   \n",
       "50755                             Continental                       1500   \n",
       "50756                             Finger Food                        600   \n",
       "50757                             Finger Food                       2000   \n",
       "50758                             Finger Food                       2500   \n",
       "50759  Finger Food, North Indian, Continental                       1500   \n",
       "\n",
       "       listed_intype listed_incity  log_votes   Latitude  Longitude  \n",
       "0             Buffet  Banashankari   6.654153  12.939333  77.553982  \n",
       "1             Buffet  Banashankari   6.669498  12.939333  77.553982  \n",
       "2             Buffet  Banashankari   6.823286  12.939333  77.553982  \n",
       "3             Buffet  Banashankari   4.488636  12.939333  77.553982  \n",
       "4             Buffet  Banashankari   5.117994  12.939333  77.553982  \n",
       "...              ...           ...        ...        ...        ...  \n",
       "50755  Pubs and bars    Whitefield   3.332205        NaN        NaN  \n",
       "50756  Pubs and bars    Whitefield   0.000000        NaN        NaN  \n",
       "50757  Pubs and bars    Whitefield   0.000000        NaN        NaN  \n",
       "50758  Pubs and bars    Whitefield   5.468060        NaN        NaN  \n",
       "50759  Pubs and bars    Whitefield   2.639057        NaN        NaN  \n",
       "\n",
       "[50760 rows x 13 columns]"
      ]
     },
     "execution_count": 492,
     "metadata": {},
     "output_type": "execute_result"
    }
   ],
   "source": [
    "data_merged = pd.merge(data_zomato, data_geo, on='listed_incity', how='left')\n",
    "data_merged"
   ]
  },
  {
   "cell_type": "code",
   "execution_count": 498,
   "id": "f35f9d47-0365-4421-8da9-14deb72afbac",
   "metadata": {},
   "outputs": [
    {
     "data": {
      "text/plain": [
       "online_order                    0\n",
       "book_table                      0\n",
       "rate                            0\n",
       "votes                           0\n",
       "rest_type                       0\n",
       "dish_liked                      0\n",
       "cuisines                        0\n",
       "approx_costfor_two_people       0\n",
       "listed_intype                   0\n",
       "listed_incity                   0\n",
       "log_votes                       0\n",
       "Latitude                     5459\n",
       "Longitude                    5459\n",
       "dtype: int64"
      ]
     },
     "execution_count": 498,
     "metadata": {},
     "output_type": "execute_result"
    }
   ],
   "source": [
    "data_merged.isnull().sum()"
   ]
  },
  {
   "cell_type": "code",
   "execution_count": 500,
   "id": "8353f307-617e-4af4-b533-c2ede82ab3f8",
   "metadata": {},
   "outputs": [
    {
     "data": {
      "text/plain": [
       "online_order                  0.000000\n",
       "book_table                    0.000000\n",
       "rate                          0.000000\n",
       "votes                         0.000000\n",
       "rest_type                     0.000000\n",
       "dish_liked                    0.000000\n",
       "cuisines                      0.000000\n",
       "approx_costfor_two_people     0.000000\n",
       "listed_intype                 0.000000\n",
       "listed_incity                 0.000000\n",
       "log_votes                     0.000000\n",
       "Latitude                     10.754531\n",
       "Longitude                    10.754531\n",
       "dtype: float64"
      ]
     },
     "execution_count": 500,
     "metadata": {},
     "output_type": "execute_result"
    }
   ],
   "source": [
    "data_merged.isnull().sum() / len(data_merged) * 100"
   ]
  },
  {
   "cell_type": "code",
   "execution_count": 516,
   "id": "ab4ff510-ddda-499d-8bf9-cf28eee464e0",
   "metadata": {},
   "outputs": [],
   "source": [
    "mean_latitude = data_merged['Latitude'].mean()\n",
    "data_merged['Latitude'] = data_merged['Latitude'].fillna(mean_latitude)"
   ]
  },
  {
   "cell_type": "code",
   "execution_count": 518,
   "id": "4128a9a5-38db-4669-8407-a832e11244be",
   "metadata": {},
   "outputs": [],
   "source": [
    "mean_longitude = data_merged['Longitude'].mean()\n",
    "data_merged['Longitude'] = data_merged['Longitude'].fillna(mean_longitude)"
   ]
  },
  {
   "cell_type": "code",
   "execution_count": 520,
   "id": "83d71899-f4a5-43d5-b7ca-39aaeaccb02f",
   "metadata": {},
   "outputs": [
    {
     "data": {
      "text/plain": [
       "online_order                 0.0\n",
       "book_table                   0.0\n",
       "rate                         0.0\n",
       "votes                        0.0\n",
       "rest_type                    0.0\n",
       "dish_liked                   0.0\n",
       "cuisines                     0.0\n",
       "approx_costfor_two_people    0.0\n",
       "listed_intype                0.0\n",
       "listed_incity                0.0\n",
       "log_votes                    0.0\n",
       "Latitude                     0.0\n",
       "Longitude                    0.0\n",
       "dtype: float64"
      ]
     },
     "execution_count": 520,
     "metadata": {},
     "output_type": "execute_result"
    }
   ],
   "source": [
    "data_merged.isnull().sum() / len(data_merged) * 100"
   ]
  },
  {
   "cell_type": "code",
   "execution_count": null,
   "id": "391288cf-8afa-4aec-9e3d-82c1828960b2",
   "metadata": {},
   "outputs": [],
   "source": []
  },
  {
   "cell_type": "markdown",
   "id": "90222353-a578-484f-9da4-1a2ae6403453",
   "metadata": {},
   "source": [
    "# Cuisine-Specific Map"
   ]
  },
  {
   "cell_type": "markdown",
   "id": "64187b92-5260-4962-99f6-77919f6ba1e0",
   "metadata": {},
   "source": [
    "**Step 1 - Installing folium module.**"
   ]
  },
  {
   "cell_type": "code",
   "execution_count": 522,
   "id": "2c798647-acfb-4e72-8958-7f7dfed7c4d9",
   "metadata": {},
   "outputs": [
    {
     "name": "stdout",
     "output_type": "stream",
     "text": [
      "Collecting folium\n",
      "  Downloading folium-0.19.5-py2.py3-none-any.whl.metadata (4.1 kB)\n",
      "Collecting branca>=0.6.0 (from folium)\n",
      "  Downloading branca-0.8.1-py3-none-any.whl.metadata (1.5 kB)\n",
      "Requirement already satisfied: jinja2>=2.9 in c:\\users\\rohit\\anaconda3\\lib\\site-packages (from folium) (3.1.4)\n",
      "Requirement already satisfied: numpy in c:\\users\\rohit\\anaconda3\\lib\\site-packages (from folium) (1.26.4)\n",
      "Requirement already satisfied: requests in c:\\users\\rohit\\anaconda3\\lib\\site-packages (from folium) (2.32.2)\n",
      "Requirement already satisfied: xyzservices in c:\\users\\rohit\\anaconda3\\lib\\site-packages (from folium) (2022.9.0)\n",
      "Requirement already satisfied: MarkupSafe>=2.0 in c:\\users\\rohit\\anaconda3\\lib\\site-packages (from jinja2>=2.9->folium) (2.1.3)\n",
      "Requirement already satisfied: charset-normalizer<4,>=2 in c:\\users\\rohit\\anaconda3\\lib\\site-packages (from requests->folium) (2.0.4)\n",
      "Requirement already satisfied: idna<4,>=2.5 in c:\\users\\rohit\\anaconda3\\lib\\site-packages (from requests->folium) (3.7)\n",
      "Requirement already satisfied: urllib3<3,>=1.21.1 in c:\\users\\rohit\\anaconda3\\lib\\site-packages (from requests->folium) (2.2.2)\n",
      "Requirement already satisfied: certifi>=2017.4.17 in c:\\users\\rohit\\anaconda3\\lib\\site-packages (from requests->folium) (2024.7.4)\n",
      "Downloading folium-0.19.5-py2.py3-none-any.whl (110 kB)\n",
      "   ---------------------------------------- 0.0/110.9 kB ? eta -:--:--\n",
      "   ---------------------------------------- 0.0/110.9 kB ? eta -:--:--\n",
      "   ---------------------------------------- 0.0/110.9 kB ? eta -:--:--\n",
      "   ---------------------------------------- 0.0/110.9 kB ? eta -:--:--\n",
      "   ---------------------------------------- 0.0/110.9 kB ? eta -:--:--\n",
      "   -------------- ------------------------- 41.0/110.9 kB 1.9 MB/s eta 0:00:01\n",
      "   -------------- ------------------------- 41.0/110.9 kB 1.9 MB/s eta 0:00:01\n",
      "   ------------------ -------------------- 51.2/110.9 kB 372.4 kB/s eta 0:00:01\n",
      "   ------------------ -------------------- 51.2/110.9 kB 372.4 kB/s eta 0:00:01\n",
      "   ----------------------------------- -- 102.4/110.9 kB 420.8 kB/s eta 0:00:01\n",
      "   -------------------------------------- 110.9/110.9 kB 402.6 kB/s eta 0:00:00\n",
      "Downloading branca-0.8.1-py3-none-any.whl (26 kB)\n",
      "Installing collected packages: branca, folium\n",
      "Successfully installed branca-0.8.1 folium-0.19.5\n"
     ]
    }
   ],
   "source": [
    "! pip install folium"
   ]
  },
  {
   "cell_type": "code",
   "execution_count": null,
   "id": "e9658566-6f1e-4510-8c42-3a1325d4b81d",
   "metadata": {},
   "outputs": [],
   "source": []
  },
  {
   "cell_type": "markdown",
   "id": "c9d102ad-b822-434c-9009-f0670278a212",
   "metadata": {},
   "source": [
    "**Step 2 - Installing IPython module.**"
   ]
  },
  {
   "cell_type": "code",
   "execution_count": 524,
   "id": "b23be1e6-79d7-47bf-88f7-08fa4b96dfd6",
   "metadata": {},
   "outputs": [
    {
     "name": "stdout",
     "output_type": "stream",
     "text": [
      "Requirement already satisfied: IPython in c:\\users\\rohit\\anaconda3\\lib\\site-packages (8.25.0)\n",
      "Requirement already satisfied: decorator in c:\\users\\rohit\\anaconda3\\lib\\site-packages (from IPython) (5.1.1)\n",
      "Requirement already satisfied: jedi>=0.16 in c:\\users\\rohit\\anaconda3\\lib\\site-packages (from IPython) (0.18.1)\n",
      "Requirement already satisfied: matplotlib-inline in c:\\users\\rohit\\anaconda3\\lib\\site-packages (from IPython) (0.1.6)\n",
      "Requirement already satisfied: prompt-toolkit<3.1.0,>=3.0.41 in c:\\users\\rohit\\anaconda3\\lib\\site-packages (from IPython) (3.0.43)\n",
      "Requirement already satisfied: pygments>=2.4.0 in c:\\users\\rohit\\anaconda3\\lib\\site-packages (from IPython) (2.15.1)\n",
      "Requirement already satisfied: stack-data in c:\\users\\rohit\\anaconda3\\lib\\site-packages (from IPython) (0.2.0)\n",
      "Requirement already satisfied: traitlets>=5.13.0 in c:\\users\\rohit\\anaconda3\\lib\\site-packages (from IPython) (5.14.3)\n",
      "Requirement already satisfied: colorama in c:\\users\\rohit\\anaconda3\\lib\\site-packages (from IPython) (0.4.6)\n",
      "Requirement already satisfied: parso<0.9.0,>=0.8.0 in c:\\users\\rohit\\anaconda3\\lib\\site-packages (from jedi>=0.16->IPython) (0.8.3)\n",
      "Requirement already satisfied: wcwidth in c:\\users\\rohit\\anaconda3\\lib\\site-packages (from prompt-toolkit<3.1.0,>=3.0.41->IPython) (0.2.5)\n",
      "Requirement already satisfied: executing in c:\\users\\rohit\\anaconda3\\lib\\site-packages (from stack-data->IPython) (0.8.3)\n",
      "Requirement already satisfied: asttokens in c:\\users\\rohit\\anaconda3\\lib\\site-packages (from stack-data->IPython) (2.0.5)\n",
      "Requirement already satisfied: pure-eval in c:\\users\\rohit\\anaconda3\\lib\\site-packages (from stack-data->IPython) (0.2.2)\n",
      "Requirement already satisfied: six in c:\\users\\rohit\\anaconda3\\lib\\site-packages (from asttokens->stack-data->IPython) (1.16.0)\n"
     ]
    }
   ],
   "source": [
    "! pip install IPython"
   ]
  },
  {
   "cell_type": "code",
   "execution_count": 526,
   "id": "5a840c51-0c1e-4113-9089-aa5f90be6371",
   "metadata": {},
   "outputs": [],
   "source": [
    "# Saving the DataFrame to a CSV file\n",
    "data_merged.to_csv('zomato_data_final.csv', index=False)"
   ]
  },
  {
   "cell_type": "markdown",
   "id": "514642eb-7a80-43b4-ad5e-3712129fb898",
   "metadata": {},
   "source": [
    "**Step3  - Reading the csv data into a dataframe.**"
   ]
  },
  {
   "cell_type": "code",
   "execution_count": 528,
   "id": "2cb8994f-0baa-4f9a-b959-0029b04cd73e",
   "metadata": {},
   "outputs": [
    {
     "data": {
      "text/html": [
       "<div>\n",
       "<style scoped>\n",
       "    .dataframe tbody tr th:only-of-type {\n",
       "        vertical-align: middle;\n",
       "    }\n",
       "\n",
       "    .dataframe tbody tr th {\n",
       "        vertical-align: top;\n",
       "    }\n",
       "\n",
       "    .dataframe thead th {\n",
       "        text-align: right;\n",
       "    }\n",
       "</style>\n",
       "<table border=\"1\" class=\"dataframe\">\n",
       "  <thead>\n",
       "    <tr style=\"text-align: right;\">\n",
       "      <th></th>\n",
       "      <th>online_order</th>\n",
       "      <th>book_table</th>\n",
       "      <th>rate</th>\n",
       "      <th>votes</th>\n",
       "      <th>rest_type</th>\n",
       "      <th>dish_liked</th>\n",
       "      <th>cuisines</th>\n",
       "      <th>approx_costfor_two_people</th>\n",
       "      <th>listed_intype</th>\n",
       "      <th>listed_incity</th>\n",
       "      <th>log_votes</th>\n",
       "      <th>Latitude</th>\n",
       "      <th>Longitude</th>\n",
       "    </tr>\n",
       "  </thead>\n",
       "  <tbody>\n",
       "    <tr>\n",
       "      <th>0</th>\n",
       "      <td>1</td>\n",
       "      <td>1</td>\n",
       "      <td>4.1</td>\n",
       "      <td>775</td>\n",
       "      <td>Casual Dining</td>\n",
       "      <td>Pasta, Lunch Buffet, Masala Papad, Paneer Laja...</td>\n",
       "      <td>North Indian, Mughlai, Chinese</td>\n",
       "      <td>800</td>\n",
       "      <td>Buffet</td>\n",
       "      <td>Banashankari</td>\n",
       "      <td>6.654153</td>\n",
       "      <td>12.939333</td>\n",
       "      <td>77.553982</td>\n",
       "    </tr>\n",
       "    <tr>\n",
       "      <th>1</th>\n",
       "      <td>1</td>\n",
       "      <td>0</td>\n",
       "      <td>4.1</td>\n",
       "      <td>787</td>\n",
       "      <td>Casual Dining</td>\n",
       "      <td>Momos, Lunch Buffet, Chocolate Nirvana, Thai G...</td>\n",
       "      <td>Chinese, North Indian, Thai</td>\n",
       "      <td>800</td>\n",
       "      <td>Buffet</td>\n",
       "      <td>Banashankari</td>\n",
       "      <td>6.669498</td>\n",
       "      <td>12.939333</td>\n",
       "      <td>77.553982</td>\n",
       "    </tr>\n",
       "    <tr>\n",
       "      <th>2</th>\n",
       "      <td>1</td>\n",
       "      <td>0</td>\n",
       "      <td>3.8</td>\n",
       "      <td>918</td>\n",
       "      <td>Cafe, Casual Dining</td>\n",
       "      <td>Churros, Cannelloni, Minestrone Soup, Hot Choc...</td>\n",
       "      <td>Cafe, Mexican, Italian</td>\n",
       "      <td>800</td>\n",
       "      <td>Buffet</td>\n",
       "      <td>Banashankari</td>\n",
       "      <td>6.823286</td>\n",
       "      <td>12.939333</td>\n",
       "      <td>77.553982</td>\n",
       "    </tr>\n",
       "    <tr>\n",
       "      <th>3</th>\n",
       "      <td>0</td>\n",
       "      <td>0</td>\n",
       "      <td>3.7</td>\n",
       "      <td>88</td>\n",
       "      <td>Quick Bites</td>\n",
       "      <td>Masala Dosa</td>\n",
       "      <td>South Indian, North Indian</td>\n",
       "      <td>300</td>\n",
       "      <td>Buffet</td>\n",
       "      <td>Banashankari</td>\n",
       "      <td>4.488636</td>\n",
       "      <td>12.939333</td>\n",
       "      <td>77.553982</td>\n",
       "    </tr>\n",
       "    <tr>\n",
       "      <th>4</th>\n",
       "      <td>0</td>\n",
       "      <td>0</td>\n",
       "      <td>3.8</td>\n",
       "      <td>166</td>\n",
       "      <td>Casual Dining</td>\n",
       "      <td>Panipuri, Gol Gappe</td>\n",
       "      <td>North Indian, Rajasthani</td>\n",
       "      <td>600</td>\n",
       "      <td>Buffet</td>\n",
       "      <td>Banashankari</td>\n",
       "      <td>5.117994</td>\n",
       "      <td>12.939333</td>\n",
       "      <td>77.553982</td>\n",
       "    </tr>\n",
       "    <tr>\n",
       "      <th>...</th>\n",
       "      <td>...</td>\n",
       "      <td>...</td>\n",
       "      <td>...</td>\n",
       "      <td>...</td>\n",
       "      <td>...</td>\n",
       "      <td>...</td>\n",
       "      <td>...</td>\n",
       "      <td>...</td>\n",
       "      <td>...</td>\n",
       "      <td>...</td>\n",
       "      <td>...</td>\n",
       "      <td>...</td>\n",
       "      <td>...</td>\n",
       "    </tr>\n",
       "    <tr>\n",
       "      <th>50755</th>\n",
       "      <td>0</td>\n",
       "      <td>0</td>\n",
       "      <td>3.6</td>\n",
       "      <td>27</td>\n",
       "      <td>Bar</td>\n",
       "      <td>Not Available</td>\n",
       "      <td>Continental</td>\n",
       "      <td>1500</td>\n",
       "      <td>Pubs and bars</td>\n",
       "      <td>Whitefield</td>\n",
       "      <td>3.332205</td>\n",
       "      <td>12.950376</td>\n",
       "      <td>77.616323</td>\n",
       "    </tr>\n",
       "    <tr>\n",
       "      <th>50756</th>\n",
       "      <td>0</td>\n",
       "      <td>0</td>\n",
       "      <td>3.7</td>\n",
       "      <td>0</td>\n",
       "      <td>Bar</td>\n",
       "      <td>Not Available</td>\n",
       "      <td>Finger Food</td>\n",
       "      <td>600</td>\n",
       "      <td>Pubs and bars</td>\n",
       "      <td>Whitefield</td>\n",
       "      <td>0.000000</td>\n",
       "      <td>12.950376</td>\n",
       "      <td>77.616323</td>\n",
       "    </tr>\n",
       "    <tr>\n",
       "      <th>50757</th>\n",
       "      <td>0</td>\n",
       "      <td>0</td>\n",
       "      <td>3.7</td>\n",
       "      <td>0</td>\n",
       "      <td>Bar</td>\n",
       "      <td>Not Available</td>\n",
       "      <td>Finger Food</td>\n",
       "      <td>2000</td>\n",
       "      <td>Pubs and bars</td>\n",
       "      <td>Whitefield</td>\n",
       "      <td>0.000000</td>\n",
       "      <td>12.950376</td>\n",
       "      <td>77.616323</td>\n",
       "    </tr>\n",
       "    <tr>\n",
       "      <th>50758</th>\n",
       "      <td>0</td>\n",
       "      <td>1</td>\n",
       "      <td>4.3</td>\n",
       "      <td>236</td>\n",
       "      <td>Bar</td>\n",
       "      <td>Cocktails, Pizza, Buttermilk</td>\n",
       "      <td>Finger Food</td>\n",
       "      <td>2500</td>\n",
       "      <td>Pubs and bars</td>\n",
       "      <td>Whitefield</td>\n",
       "      <td>5.468060</td>\n",
       "      <td>12.950376</td>\n",
       "      <td>77.616323</td>\n",
       "    </tr>\n",
       "    <tr>\n",
       "      <th>50759</th>\n",
       "      <td>0</td>\n",
       "      <td>0</td>\n",
       "      <td>3.4</td>\n",
       "      <td>13</td>\n",
       "      <td>Bar, Casual Dining</td>\n",
       "      <td>Not Available</td>\n",
       "      <td>Finger Food, North Indian, Continental</td>\n",
       "      <td>1500</td>\n",
       "      <td>Pubs and bars</td>\n",
       "      <td>Whitefield</td>\n",
       "      <td>2.639057</td>\n",
       "      <td>12.950376</td>\n",
       "      <td>77.616323</td>\n",
       "    </tr>\n",
       "  </tbody>\n",
       "</table>\n",
       "<p>50760 rows × 13 columns</p>\n",
       "</div>"
      ],
      "text/plain": [
       "       online_order  book_table  rate  votes            rest_type  \\\n",
       "0                 1           1   4.1    775        Casual Dining   \n",
       "1                 1           0   4.1    787        Casual Dining   \n",
       "2                 1           0   3.8    918  Cafe, Casual Dining   \n",
       "3                 0           0   3.7     88          Quick Bites   \n",
       "4                 0           0   3.8    166        Casual Dining   \n",
       "...             ...         ...   ...    ...                  ...   \n",
       "50755             0           0   3.6     27                  Bar   \n",
       "50756             0           0   3.7      0                  Bar   \n",
       "50757             0           0   3.7      0                  Bar   \n",
       "50758             0           1   4.3    236                  Bar   \n",
       "50759             0           0   3.4     13   Bar, Casual Dining   \n",
       "\n",
       "                                              dish_liked  \\\n",
       "0      Pasta, Lunch Buffet, Masala Papad, Paneer Laja...   \n",
       "1      Momos, Lunch Buffet, Chocolate Nirvana, Thai G...   \n",
       "2      Churros, Cannelloni, Minestrone Soup, Hot Choc...   \n",
       "3                                            Masala Dosa   \n",
       "4                                    Panipuri, Gol Gappe   \n",
       "...                                                  ...   \n",
       "50755                                      Not Available   \n",
       "50756                                      Not Available   \n",
       "50757                                      Not Available   \n",
       "50758                       Cocktails, Pizza, Buttermilk   \n",
       "50759                                      Not Available   \n",
       "\n",
       "                                     cuisines  approx_costfor_two_people  \\\n",
       "0              North Indian, Mughlai, Chinese                        800   \n",
       "1                 Chinese, North Indian, Thai                        800   \n",
       "2                      Cafe, Mexican, Italian                        800   \n",
       "3                  South Indian, North Indian                        300   \n",
       "4                    North Indian, Rajasthani                        600   \n",
       "...                                       ...                        ...   \n",
       "50755                             Continental                       1500   \n",
       "50756                             Finger Food                        600   \n",
       "50757                             Finger Food                       2000   \n",
       "50758                             Finger Food                       2500   \n",
       "50759  Finger Food, North Indian, Continental                       1500   \n",
       "\n",
       "       listed_intype listed_incity  log_votes   Latitude  Longitude  \n",
       "0             Buffet  Banashankari   6.654153  12.939333  77.553982  \n",
       "1             Buffet  Banashankari   6.669498  12.939333  77.553982  \n",
       "2             Buffet  Banashankari   6.823286  12.939333  77.553982  \n",
       "3             Buffet  Banashankari   4.488636  12.939333  77.553982  \n",
       "4             Buffet  Banashankari   5.117994  12.939333  77.553982  \n",
       "...              ...           ...        ...        ...        ...  \n",
       "50755  Pubs and bars    Whitefield   3.332205  12.950376  77.616323  \n",
       "50756  Pubs and bars    Whitefield   0.000000  12.950376  77.616323  \n",
       "50757  Pubs and bars    Whitefield   0.000000  12.950376  77.616323  \n",
       "50758  Pubs and bars    Whitefield   5.468060  12.950376  77.616323  \n",
       "50759  Pubs and bars    Whitefield   2.639057  12.950376  77.616323  \n",
       "\n",
       "[50760 rows x 13 columns]"
      ]
     },
     "execution_count": 528,
     "metadata": {},
     "output_type": "execute_result"
    }
   ],
   "source": [
    "data = pd.read_csv('zomato_data_final.csv')\n",
    "data"
   ]
  },
  {
   "cell_type": "code",
   "execution_count": 539,
   "id": "dffbbb69-bc6e-4c47-9f54-bb1f88c551f0",
   "metadata": {},
   "outputs": [],
   "source": [
    "# Importing Libraries\n",
    "\n",
    "import pandas as pd\n",
    "from folium.plugins import MarkerCluster\n",
    "import folium\n",
    "from IPython.display import IFrame"
   ]
  },
  {
   "cell_type": "markdown",
   "id": "86718d82-95c5-4fc6-8dd6-13c92355f9c0",
   "metadata": {},
   "source": [
    "**Step 4 - Cuisine-Specific Map – Italian Restaurants**"
   ]
  },
  {
   "cell_type": "markdown",
   "id": "28fb9f6a-b01b-411a-949a-4fcd83065ec1",
   "metadata": {},
   "source": []
  },
  {
   "cell_type": "code",
   "execution_count": 558,
   "id": "cd1ce2e9-ff7a-401a-a605-7d6e3e987368",
   "metadata": {},
   "outputs": [],
   "source": [
    "# Filter Italian cuisine restaurants\n",
    "italian_df = data[data['cuisines'].str.contains(\"Italian\", na=False)]\n",
    "\n",
    "# Create a folium map centered around Bangalore (example coords)\n",
    "map4 = folium.Map(location=[12.9716, 77.5946], zoom_start=12)\n",
    "\n",
    "# Add restaurant markers\n",
    "for i, row in italian_df.iterrows():\n",
    "    folium.Marker(\n",
    "        location=[row['Latitude'], row['Longitude']],\n",
    "        popup=f\"{row['listed_incity']}<br>Cuisine: {row['cuisines']}\",\n",
    "        icon=folium.Icon(color='purple')\n",
    "    ).add_to(map4)\n",
    "\n",
    "# Save the map\n",
    "map4.save(\"italian_spots_map.html\")\n"
   ]
  },
  {
   "cell_type": "code",
   "execution_count": 583,
   "id": "84c92ca8-e5fa-425b-a989-f41ea381ca31",
   "metadata": {},
   "outputs": [
    {
     "data": {
      "text/html": [
       "\n",
       "        <iframe\n",
       "            width=\"1000\"\n",
       "            height=\"800\"\n",
       "            src=\"italian_spots_map.html\"\n",
       "            frameborder=\"0\"\n",
       "            allowfullscreen\n",
       "            \n",
       "        ></iframe>\n",
       "        "
      ],
      "text/plain": [
       "<IPython.lib.display.IFrame at 0x2863a2be450>"
      ]
     },
     "execution_count": 583,
     "metadata": {},
     "output_type": "execute_result"
    }
   ],
   "source": [
    "from IPython.display import IFrame\n",
    "\n",
    "# Display the map in the notebook\n",
    "\n",
    "IFrame('italian_spots_map.html', width=1000,height=800)"
   ]
  },
  {
   "cell_type": "markdown",
   "id": "d3ad16a0-6965-4997-8eaa-cd76c2c01914",
   "metadata": {},
   "source": [
    "## Interactive Restaurant Density Mapping"
   ]
  },
  {
   "cell_type": "code",
   "execution_count": 574,
   "id": "faa4866f-3b14-49a9-828d-938d20deb16a",
   "metadata": {},
   "outputs": [],
   "source": [
    "# Loading data with folium map data perfroming the resutaurant density\n",
    "\n",
    "map1 = folium.Map(location=[12.9716, 77.5946],zoom_start=12)\n",
    "marker_cluster = MarkerCluster().add_to(map1)\n",
    "\n",
    "for i, row in data.iterrows():\n",
    "    if not pd.isna (row['Latitude']) and not pd.isna (row['Longitude']):\n",
    "        folium.Marker(\n",
    "            location= [row['Latitude'], row['Longitude']],\n",
    "            popup=f\"{row['listed_incity']}<br>Rating: {row['rate']}<br>Cost: ₹{row['approx_costfor_two_people']}\",\n",
    "        ).add_to(marker_cluster)\n",
    "\n",
    "map1.save(\"restaurant_density.html\")"
   ]
  },
  {
   "cell_type": "code",
   "execution_count": 581,
   "id": "b78aee22-b3fe-4e91-af7c-155e4bbb3951",
   "metadata": {},
   "outputs": [
    {
     "data": {
      "text/html": [
       "\n",
       "        <iframe\n",
       "            width=\"1000\"\n",
       "            height=\"800\"\n",
       "            src=\"restaurant_density.html\"\n",
       "            frameborder=\"0\"\n",
       "            allowfullscreen\n",
       "            \n",
       "        ></iframe>\n",
       "        "
      ],
      "text/plain": [
       "<IPython.lib.display.IFrame at 0x2864bff1e80>"
      ]
     },
     "execution_count": 581,
     "metadata": {},
     "output_type": "execute_result"
    }
   ],
   "source": [
    "from IPython.display import IFrame\n",
    "\n",
    "#Display the map in the notebook\n",
    "\n",
    "IFrame('restaurant_density.html', width=1000,height=800)"
   ]
  },
  {
   "cell_type": "code",
   "execution_count": null,
   "id": "b6298043-ca8a-4869-a304-d0a708e783e8",
   "metadata": {},
   "outputs": [],
   "source": []
  },
  {
   "cell_type": "code",
   "execution_count": null,
   "id": "e451636f-75f9-48d1-9b14-62cbd773ceab",
   "metadata": {},
   "outputs": [],
   "source": []
  }
 ],
 "metadata": {
  "kernelspec": {
   "display_name": "Python 3 (ipykernel)",
   "language": "python",
   "name": "python3"
  },
  "language_info": {
   "codemirror_mode": {
    "name": "ipython",
    "version": 3
   },
   "file_extension": ".py",
   "mimetype": "text/x-python",
   "name": "python",
   "nbconvert_exporter": "python",
   "pygments_lexer": "ipython3",
   "version": "3.12.4"
  }
 },
 "nbformat": 4,
 "nbformat_minor": 5
}
